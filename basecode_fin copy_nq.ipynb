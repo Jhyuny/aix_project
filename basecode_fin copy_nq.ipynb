{
 "cells": [
  {
   "cell_type": "code",
   "execution_count": 1,
   "metadata": {},
   "outputs": [],
   "source": [
    "from datasets import load_dataset\n",
    "from transformers import DPRQuestionEncoder, DPRQuestionEncoderTokenizer\n",
    "from transformers import DPRContextEncoder, DPRContextEncoderTokenizer\n",
    "from sklearn.metrics import f1_score\n",
    "import numpy as np\n",
    "import faiss\n",
    "import torch\n",
    "import pandas as pd\n",
    "from tqdm import tqdm\n",
    "\n",
    "import json\n",
    "import os\n"
   ]
  },
  {
   "cell_type": "markdown",
   "metadata": {},
   "source": [
    "## Load Dataset"
   ]
  },
  {
   "cell_type": "code",
   "execution_count": 6,
   "metadata": {},
   "outputs": [
    {
     "name": "stdout",
     "output_type": "stream",
     "text": [
      "✅ Loaded QA pairs: 87925\n",
      "                                            question                answer\n",
      "0           where did they film hot tub time machine  Fernie Alpine Resort\n",
      "1   who has the right of way in international waters        Neither vessel\n",
      "2            who does annie work for attack on titan                Marley\n",
      "3  when was the immigration reform and control ac...      November 6, 1986\n",
      "4              when was puerto rico added to the usa                  1950\n"
     ]
    },
    {
     "data": {
      "application/vnd.jupyter.widget-view+json": {
       "model_id": "8fbba6f8a0124e31819e965ab09c5671",
       "version_major": 2,
       "version_minor": 0
      },
      "text/plain": [
       "Downloading data:   0%|          | 0/157 [00:00<?, ?files/s]"
      ]
     },
     "metadata": {},
     "output_type": "display_data"
    },
    {
     "data": {
      "application/vnd.jupyter.widget-view+json": {
       "model_id": "93576ae477924f0bb7ccfecb3b6ffcb6",
       "version_major": 2,
       "version_minor": 0
      },
      "text/plain": [
       "data/psgs_w100/nq/train-00000-of-00157.p(…):   0%|          | 0.00/545M [00:00<?, ?B/s]"
      ]
     },
     "metadata": {},
     "output_type": "display_data"
    },
    {
     "data": {
      "application/vnd.jupyter.widget-view+json": {
       "model_id": "69e2dbb749974c789d89a140c3f90a42",
       "version_major": 2,
       "version_minor": 0
      },
      "text/plain": [
       "data/psgs_w100/nq/train-00001-of-00157.p(…):   0%|          | 0.00/546M [00:00<?, ?B/s]"
      ]
     },
     "metadata": {},
     "output_type": "display_data"
    },
    {
     "data": {
      "application/vnd.jupyter.widget-view+json": {
       "model_id": "e42b34b9769741bf919c95b7af7faf19",
       "version_major": 2,
       "version_minor": 0
      },
      "text/plain": [
       "data/psgs_w100/nq/train-00002-of-00157.p(…):   0%|          | 0.00/546M [00:00<?, ?B/s]"
      ]
     },
     "metadata": {},
     "output_type": "display_data"
    },
    {
     "data": {
      "application/vnd.jupyter.widget-view+json": {
       "model_id": "a91b78354ce646cc96c9981936febff2",
       "version_major": 2,
       "version_minor": 0
      },
      "text/plain": [
       "data/psgs_w100/nq/train-00003-of-00157.p(…):   0%|          | 0.00/546M [00:00<?, ?B/s]"
      ]
     },
     "metadata": {},
     "output_type": "display_data"
    },
    {
     "data": {
      "application/vnd.jupyter.widget-view+json": {
       "model_id": "8adf6677b6ab4e3e9ca7ad25d27574ae",
       "version_major": 2,
       "version_minor": 0
      },
      "text/plain": [
       "data/psgs_w100/nq/train-00004-of-00157.p(…):   0%|          | 0.00/546M [00:00<?, ?B/s]"
      ]
     },
     "metadata": {},
     "output_type": "display_data"
    },
    {
     "data": {
      "application/vnd.jupyter.widget-view+json": {
       "model_id": "1f54a3903f2d4f5da874860b4f362e44",
       "version_major": 2,
       "version_minor": 0
      },
      "text/plain": [
       "data/psgs_w100/nq/train-00005-of-00157.p(…):   0%|          | 0.00/545M [00:00<?, ?B/s]"
      ]
     },
     "metadata": {},
     "output_type": "display_data"
    },
    {
     "data": {
      "application/vnd.jupyter.widget-view+json": {
       "model_id": "7af861ca9bca4582928631524a5b07dc",
       "version_major": 2,
       "version_minor": 0
      },
      "text/plain": [
       "data/psgs_w100/nq/train-00006-of-00157.p(…):   0%|          | 0.00/544M [00:00<?, ?B/s]"
      ]
     },
     "metadata": {},
     "output_type": "display_data"
    },
    {
     "data": {
      "application/vnd.jupyter.widget-view+json": {
       "model_id": "7db62f7febf24168b89bffae5ccd463c",
       "version_major": 2,
       "version_minor": 0
      },
      "text/plain": [
       "data/psgs_w100/nq/train-00007-of-00157.p(…):   0%|          | 0.00/537M [00:00<?, ?B/s]"
      ]
     },
     "metadata": {},
     "output_type": "display_data"
    },
    {
     "data": {
      "application/vnd.jupyter.widget-view+json": {
       "model_id": "4ee3641fdb594a589bad89e793a16234",
       "version_major": 2,
       "version_minor": 0
      },
      "text/plain": [
       "data/psgs_w100/nq/train-00008-of-00157.p(…):   0%|          | 0.00/530M [00:00<?, ?B/s]"
      ]
     },
     "metadata": {},
     "output_type": "display_data"
    },
    {
     "data": {
      "application/vnd.jupyter.widget-view+json": {
       "model_id": "c0f0954dbb964cdf85a5cef60a8e3a60",
       "version_major": 2,
       "version_minor": 0
      },
      "text/plain": [
       "data/psgs_w100/nq/train-00009-of-00157.p(…):   0%|          | 0.00/538M [00:00<?, ?B/s]"
      ]
     },
     "metadata": {},
     "output_type": "display_data"
    },
    {
     "data": {
      "application/vnd.jupyter.widget-view+json": {
       "model_id": "5ca0e9118f5a45849bb7c7b00cdb44c1",
       "version_major": 2,
       "version_minor": 0
      },
      "text/plain": [
       "data/psgs_w100/nq/train-00010-of-00157.p(…):   0%|          | 0.00/546M [00:00<?, ?B/s]"
      ]
     },
     "metadata": {},
     "output_type": "display_data"
    },
    {
     "data": {
      "application/vnd.jupyter.widget-view+json": {
       "model_id": "81730a848bff4b5d970e30b4add933fd",
       "version_major": 2,
       "version_minor": 0
      },
      "text/plain": [
       "data/psgs_w100/nq/train-00011-of-00157.p(…):   0%|          | 0.00/545M [00:00<?, ?B/s]"
      ]
     },
     "metadata": {},
     "output_type": "display_data"
    },
    {
     "data": {
      "application/vnd.jupyter.widget-view+json": {
       "model_id": "6dde003e874b4dcba7a4bceab2905bfd",
       "version_major": 2,
       "version_minor": 0
      },
      "text/plain": [
       "data/psgs_w100/nq/train-00012-of-00157.p(…):   0%|          | 0.00/545M [00:00<?, ?B/s]"
      ]
     },
     "metadata": {},
     "output_type": "display_data"
    },
    {
     "data": {
      "application/vnd.jupyter.widget-view+json": {
       "model_id": "c8f810bcb1f94609bdb8cf91e12dbde8",
       "version_major": 2,
       "version_minor": 0
      },
      "text/plain": [
       "data/psgs_w100/nq/train-00013-of-00157.p(…):   0%|          | 0.00/545M [00:00<?, ?B/s]"
      ]
     },
     "metadata": {},
     "output_type": "display_data"
    },
    {
     "data": {
      "application/vnd.jupyter.widget-view+json": {
       "model_id": "f91d2a5637554a278fcd5f0e7701da38",
       "version_major": 2,
       "version_minor": 0
      },
      "text/plain": [
       "data/psgs_w100/nq/train-00014-of-00157.p(…):   0%|          | 0.00/544M [00:00<?, ?B/s]"
      ]
     },
     "metadata": {},
     "output_type": "display_data"
    },
    {
     "data": {
      "application/vnd.jupyter.widget-view+json": {
       "model_id": "cc6939ffcf6f4d43954ed2682f3b7db1",
       "version_major": 2,
       "version_minor": 0
      },
      "text/plain": [
       "data/psgs_w100/nq/train-00015-of-00157.p(…):   0%|          | 0.00/545M [00:00<?, ?B/s]"
      ]
     },
     "metadata": {},
     "output_type": "display_data"
    },
    {
     "data": {
      "application/vnd.jupyter.widget-view+json": {
       "model_id": "afb07543f7c5471a85845304107f8e25",
       "version_major": 2,
       "version_minor": 0
      },
      "text/plain": [
       "data/psgs_w100/nq/train-00016-of-00157.p(…):   0%|          | 0.00/545M [00:00<?, ?B/s]"
      ]
     },
     "metadata": {},
     "output_type": "display_data"
    },
    {
     "data": {
      "application/vnd.jupyter.widget-view+json": {
       "model_id": "88d4b7eb53f3482aba70c6186834eedc",
       "version_major": 2,
       "version_minor": 0
      },
      "text/plain": [
       "data/psgs_w100/nq/train-00017-of-00157.p(…):   0%|          | 0.00/545M [00:00<?, ?B/s]"
      ]
     },
     "metadata": {},
     "output_type": "display_data"
    },
    {
     "data": {
      "application/vnd.jupyter.widget-view+json": {
       "model_id": "ecbe7e58b5cd49ea93fe3bd1c8731336",
       "version_major": 2,
       "version_minor": 0
      },
      "text/plain": [
       "data/psgs_w100/nq/train-00018-of-00157.p(…):   0%|          | 0.00/545M [00:00<?, ?B/s]"
      ]
     },
     "metadata": {},
     "output_type": "display_data"
    },
    {
     "data": {
      "application/vnd.jupyter.widget-view+json": {
       "model_id": "4619bb1ce31b425eb93785d4627f33ad",
       "version_major": 2,
       "version_minor": 0
      },
      "text/plain": [
       "data/psgs_w100/nq/train-00019-of-00157.p(…):   0%|          | 0.00/544M [00:00<?, ?B/s]"
      ]
     },
     "metadata": {},
     "output_type": "display_data"
    },
    {
     "data": {
      "application/vnd.jupyter.widget-view+json": {
       "model_id": "386203dd0e0347aeb592b7dd6e8b6ed4",
       "version_major": 2,
       "version_minor": 0
      },
      "text/plain": [
       "data/psgs_w100/nq/train-00020-of-00157.p(…):   0%|          | 0.00/544M [00:00<?, ?B/s]"
      ]
     },
     "metadata": {},
     "output_type": "display_data"
    },
    {
     "data": {
      "application/vnd.jupyter.widget-view+json": {
       "model_id": "3e247f3ac909433394fa4c44bb7e939d",
       "version_major": 2,
       "version_minor": 0
      },
      "text/plain": [
       "data/psgs_w100/nq/train-00021-of-00157.p(…):   0%|          | 0.00/545M [00:00<?, ?B/s]"
      ]
     },
     "metadata": {},
     "output_type": "display_data"
    },
    {
     "data": {
      "application/vnd.jupyter.widget-view+json": {
       "model_id": "6c176a023fc046b28190f550e61b32f0",
       "version_major": 2,
       "version_minor": 0
      },
      "text/plain": [
       "data/psgs_w100/nq/train-00022-of-00157.p(…):   0%|          | 0.00/545M [00:00<?, ?B/s]"
      ]
     },
     "metadata": {},
     "output_type": "display_data"
    },
    {
     "data": {
      "application/vnd.jupyter.widget-view+json": {
       "model_id": "7d2e2d7de11b4dc3985336e68e5befb3",
       "version_major": 2,
       "version_minor": 0
      },
      "text/plain": [
       "data/psgs_w100/nq/train-00023-of-00157.p(…):   0%|          | 0.00/545M [00:00<?, ?B/s]"
      ]
     },
     "metadata": {},
     "output_type": "display_data"
    },
    {
     "data": {
      "application/vnd.jupyter.widget-view+json": {
       "model_id": "b1eb60393dc24b449f95bcb7f499704b",
       "version_major": 2,
       "version_minor": 0
      },
      "text/plain": [
       "data/psgs_w100/nq/train-00024-of-00157.p(…):   0%|          | 0.00/545M [00:00<?, ?B/s]"
      ]
     },
     "metadata": {},
     "output_type": "display_data"
    },
    {
     "data": {
      "application/vnd.jupyter.widget-view+json": {
       "model_id": "ae01994fe76345f9bd1715444aee0f85",
       "version_major": 2,
       "version_minor": 0
      },
      "text/plain": [
       "data/psgs_w100/nq/train-00025-of-00157.p(…):   0%|          | 0.00/545M [00:00<?, ?B/s]"
      ]
     },
     "metadata": {},
     "output_type": "display_data"
    },
    {
     "data": {
      "application/vnd.jupyter.widget-view+json": {
       "model_id": "4632bb06fbd446efb7fda1ab6d7bc6b2",
       "version_major": 2,
       "version_minor": 0
      },
      "text/plain": [
       "data/psgs_w100/nq/train-00026-of-00157.p(…):   0%|          | 0.00/544M [00:00<?, ?B/s]"
      ]
     },
     "metadata": {},
     "output_type": "display_data"
    },
    {
     "data": {
      "application/vnd.jupyter.widget-view+json": {
       "model_id": "ae3077f791ce4b579cc171efc30736c1",
       "version_major": 2,
       "version_minor": 0
      },
      "text/plain": [
       "data/psgs_w100/nq/train-00027-of-00157.p(…):   0%|          | 0.00/544M [00:00<?, ?B/s]"
      ]
     },
     "metadata": {},
     "output_type": "display_data"
    },
    {
     "data": {
      "application/vnd.jupyter.widget-view+json": {
       "model_id": "62d37f3777e042979552053d50e9aade",
       "version_major": 2,
       "version_minor": 0
      },
      "text/plain": [
       "data/psgs_w100/nq/train-00028-of-00157.p(…):   0%|          | 0.00/544M [00:00<?, ?B/s]"
      ]
     },
     "metadata": {},
     "output_type": "display_data"
    },
    {
     "data": {
      "application/vnd.jupyter.widget-view+json": {
       "model_id": "e7f53ade7e7745a18964e563e4649632",
       "version_major": 2,
       "version_minor": 0
      },
      "text/plain": [
       "data/psgs_w100/nq/train-00029-of-00157.p(…):   0%|          | 0.00/544M [00:00<?, ?B/s]"
      ]
     },
     "metadata": {},
     "output_type": "display_data"
    },
    {
     "data": {
      "application/vnd.jupyter.widget-view+json": {
       "model_id": "c8f779badc1d4b43ae4868faf9a4feb3",
       "version_major": 2,
       "version_minor": 0
      },
      "text/plain": [
       "data/psgs_w100/nq/train-00030-of-00157.p(…):   0%|          | 0.00/545M [00:00<?, ?B/s]"
      ]
     },
     "metadata": {},
     "output_type": "display_data"
    },
    {
     "data": {
      "application/vnd.jupyter.widget-view+json": {
       "model_id": "5523143c405b4a9baa518a78f70f8960",
       "version_major": 2,
       "version_minor": 0
      },
      "text/plain": [
       "data/psgs_w100/nq/train-00031-of-00157.p(…):   0%|          | 0.00/545M [00:00<?, ?B/s]"
      ]
     },
     "metadata": {},
     "output_type": "display_data"
    },
    {
     "data": {
      "application/vnd.jupyter.widget-view+json": {
       "model_id": "f3376eb555aa469cbb6c2f804617bea0",
       "version_major": 2,
       "version_minor": 0
      },
      "text/plain": [
       "data/psgs_w100/nq/train-00032-of-00157.p(…):   0%|          | 0.00/545M [00:00<?, ?B/s]"
      ]
     },
     "metadata": {},
     "output_type": "display_data"
    },
    {
     "data": {
      "application/vnd.jupyter.widget-view+json": {
       "model_id": "c613a2c8b14c4ca29841380f3cb0ae1e",
       "version_major": 2,
       "version_minor": 0
      },
      "text/plain": [
       "data/psgs_w100/nq/train-00033-of-00157.p(…):   0%|          | 0.00/544M [00:00<?, ?B/s]"
      ]
     },
     "metadata": {},
     "output_type": "display_data"
    },
    {
     "data": {
      "application/vnd.jupyter.widget-view+json": {
       "model_id": "02087b631d9b4a0db7b7f05fd423bf2f",
       "version_major": 2,
       "version_minor": 0
      },
      "text/plain": [
       "data/psgs_w100/nq/train-00034-of-00157.p(…):   0%|          | 0.00/544M [00:00<?, ?B/s]"
      ]
     },
     "metadata": {},
     "output_type": "display_data"
    },
    {
     "data": {
      "application/vnd.jupyter.widget-view+json": {
       "model_id": "a7ca5a370de045509cf183a7c964338c",
       "version_major": 2,
       "version_minor": 0
      },
      "text/plain": [
       "data/psgs_w100/nq/train-00035-of-00157.p(…):   0%|          | 0.00/544M [00:00<?, ?B/s]"
      ]
     },
     "metadata": {},
     "output_type": "display_data"
    },
    {
     "data": {
      "application/vnd.jupyter.widget-view+json": {
       "model_id": "9b94310201904100831c2962be931845",
       "version_major": 2,
       "version_minor": 0
      },
      "text/plain": [
       "data/psgs_w100/nq/train-00036-of-00157.p(…):   0%|          | 0.00/544M [00:00<?, ?B/s]"
      ]
     },
     "metadata": {},
     "output_type": "display_data"
    },
    {
     "data": {
      "application/vnd.jupyter.widget-view+json": {
       "model_id": "2313c14d37fe47b89089e01ad99ab8b2",
       "version_major": 2,
       "version_minor": 0
      },
      "text/plain": [
       "data/psgs_w100/nq/train-00037-of-00157.p(…):   0%|          | 0.00/544M [00:00<?, ?B/s]"
      ]
     },
     "metadata": {},
     "output_type": "display_data"
    },
    {
     "data": {
      "application/vnd.jupyter.widget-view+json": {
       "model_id": "cbe16547deb546af8afe09d4429c4489",
       "version_major": 2,
       "version_minor": 0
      },
      "text/plain": [
       "data/psgs_w100/nq/train-00038-of-00157.p(…):   0%|          | 0.00/545M [00:00<?, ?B/s]"
      ]
     },
     "metadata": {},
     "output_type": "display_data"
    },
    {
     "data": {
      "application/vnd.jupyter.widget-view+json": {
       "model_id": "44bc1f2a2b55428683d9d2bc99f72fcc",
       "version_major": 2,
       "version_minor": 0
      },
      "text/plain": [
       "data/psgs_w100/nq/train-00039-of-00157.p(…):   0%|          | 0.00/544M [00:00<?, ?B/s]"
      ]
     },
     "metadata": {},
     "output_type": "display_data"
    },
    {
     "data": {
      "application/vnd.jupyter.widget-view+json": {
       "model_id": "c7093a315ed54171b2bfeaf96341d110",
       "version_major": 2,
       "version_minor": 0
      },
      "text/plain": [
       "data/psgs_w100/nq/train-00040-of-00157.p(…):   0%|          | 0.00/544M [00:00<?, ?B/s]"
      ]
     },
     "metadata": {},
     "output_type": "display_data"
    },
    {
     "data": {
      "application/vnd.jupyter.widget-view+json": {
       "model_id": "229bb1a692304e84902de093f6db89ab",
       "version_major": 2,
       "version_minor": 0
      },
      "text/plain": [
       "data/psgs_w100/nq/train-00041-of-00157.p(…):   0%|          | 0.00/544M [00:00<?, ?B/s]"
      ]
     },
     "metadata": {},
     "output_type": "display_data"
    },
    {
     "data": {
      "application/vnd.jupyter.widget-view+json": {
       "model_id": "e38886903ca34cac8b562af6a2ae9b46",
       "version_major": 2,
       "version_minor": 0
      },
      "text/plain": [
       "data/psgs_w100/nq/train-00042-of-00157.p(…):   0%|          | 0.00/544M [00:00<?, ?B/s]"
      ]
     },
     "metadata": {},
     "output_type": "display_data"
    },
    {
     "data": {
      "application/vnd.jupyter.widget-view+json": {
       "model_id": "bd7fecc2de154d409e55f11dd9d7e0ba",
       "version_major": 2,
       "version_minor": 0
      },
      "text/plain": [
       "data/psgs_w100/nq/train-00043-of-00157.p(…):   0%|          | 0.00/544M [00:00<?, ?B/s]"
      ]
     },
     "metadata": {},
     "output_type": "display_data"
    },
    {
     "data": {
      "application/vnd.jupyter.widget-view+json": {
       "model_id": "40a115fed10346358e13ee2d15fb1025",
       "version_major": 2,
       "version_minor": 0
      },
      "text/plain": [
       "data/psgs_w100/nq/train-00044-of-00157.p(…):   0%|          | 0.00/544M [00:00<?, ?B/s]"
      ]
     },
     "metadata": {},
     "output_type": "display_data"
    },
    {
     "data": {
      "application/vnd.jupyter.widget-view+json": {
       "model_id": "b194c67ebce94a55beaf5ea845a955c5",
       "version_major": 2,
       "version_minor": 0
      },
      "text/plain": [
       "data/psgs_w100/nq/train-00045-of-00157.p(…):   0%|          | 0.00/544M [00:00<?, ?B/s]"
      ]
     },
     "metadata": {},
     "output_type": "display_data"
    },
    {
     "data": {
      "application/vnd.jupyter.widget-view+json": {
       "model_id": "9f9ff60300f34b3b92d06410cd27a7a8",
       "version_major": 2,
       "version_minor": 0
      },
      "text/plain": [
       "data/psgs_w100/nq/train-00046-of-00157.p(…):   0%|          | 0.00/544M [00:00<?, ?B/s]"
      ]
     },
     "metadata": {},
     "output_type": "display_data"
    },
    {
     "data": {
      "application/vnd.jupyter.widget-view+json": {
       "model_id": "fb171a48b4c1467f84d441be14ea459c",
       "version_major": 2,
       "version_minor": 0
      },
      "text/plain": [
       "data/psgs_w100/nq/train-00047-of-00157.p(…):   0%|          | 0.00/544M [00:00<?, ?B/s]"
      ]
     },
     "metadata": {},
     "output_type": "display_data"
    },
    {
     "data": {
      "application/vnd.jupyter.widget-view+json": {
       "model_id": "4e4c2ace0b77413dbc94c02e51d67732",
       "version_major": 2,
       "version_minor": 0
      },
      "text/plain": [
       "data/psgs_w100/nq/train-00048-of-00157.p(…):   0%|          | 0.00/544M [00:00<?, ?B/s]"
      ]
     },
     "metadata": {},
     "output_type": "display_data"
    },
    {
     "data": {
      "application/vnd.jupyter.widget-view+json": {
       "model_id": "aada485e24bc467eaf22e84aae3eeb53",
       "version_major": 2,
       "version_minor": 0
      },
      "text/plain": [
       "data/psgs_w100/nq/train-00049-of-00157.p(…):   0%|          | 0.00/544M [00:00<?, ?B/s]"
      ]
     },
     "metadata": {},
     "output_type": "display_data"
    },
    {
     "data": {
      "application/vnd.jupyter.widget-view+json": {
       "model_id": "57cbaaa458014ddab11fc7674e31e26c",
       "version_major": 2,
       "version_minor": 0
      },
      "text/plain": [
       "data/psgs_w100/nq/train-00050-of-00157.p(…):   0%|          | 0.00/544M [00:00<?, ?B/s]"
      ]
     },
     "metadata": {},
     "output_type": "display_data"
    },
    {
     "data": {
      "application/vnd.jupyter.widget-view+json": {
       "model_id": "696d3eb591794a01ad87b6d9f39f0edd",
       "version_major": 2,
       "version_minor": 0
      },
      "text/plain": [
       "data/psgs_w100/nq/train-00051-of-00157.p(…):   0%|          | 0.00/544M [00:00<?, ?B/s]"
      ]
     },
     "metadata": {},
     "output_type": "display_data"
    },
    {
     "data": {
      "application/vnd.jupyter.widget-view+json": {
       "model_id": "f622295045e2421ea4c09a266421e914",
       "version_major": 2,
       "version_minor": 0
      },
      "text/plain": [
       "data/psgs_w100/nq/train-00052-of-00157.p(…):   0%|          | 0.00/544M [00:00<?, ?B/s]"
      ]
     },
     "metadata": {},
     "output_type": "display_data"
    },
    {
     "data": {
      "application/vnd.jupyter.widget-view+json": {
       "model_id": "ec5d133b1da241d0952d504d69ed30e6",
       "version_major": 2,
       "version_minor": 0
      },
      "text/plain": [
       "data/psgs_w100/nq/train-00053-of-00157.p(…):   0%|          | 0.00/544M [00:00<?, ?B/s]"
      ]
     },
     "metadata": {},
     "output_type": "display_data"
    },
    {
     "data": {
      "application/vnd.jupyter.widget-view+json": {
       "model_id": "af14bb870cda49769f5c089990411f95",
       "version_major": 2,
       "version_minor": 0
      },
      "text/plain": [
       "data/psgs_w100/nq/train-00054-of-00157.p(…):   0%|          | 0.00/544M [00:00<?, ?B/s]"
      ]
     },
     "metadata": {},
     "output_type": "display_data"
    },
    {
     "data": {
      "application/vnd.jupyter.widget-view+json": {
       "model_id": "80f079d9f4a648c4931644c67dec4da9",
       "version_major": 2,
       "version_minor": 0
      },
      "text/plain": [
       "data/psgs_w100/nq/train-00055-of-00157.p(…):   0%|          | 0.00/543M [00:00<?, ?B/s]"
      ]
     },
     "metadata": {},
     "output_type": "display_data"
    },
    {
     "data": {
      "application/vnd.jupyter.widget-view+json": {
       "model_id": "8d12b59af9cc4f1ca9a40618bccc9cd9",
       "version_major": 2,
       "version_minor": 0
      },
      "text/plain": [
       "data/psgs_w100/nq/train-00056-of-00157.p(…):   0%|          | 0.00/544M [00:00<?, ?B/s]"
      ]
     },
     "metadata": {},
     "output_type": "display_data"
    },
    {
     "data": {
      "application/vnd.jupyter.widget-view+json": {
       "model_id": "b8fb926f88fa4754913dd3521d4f1040",
       "version_major": 2,
       "version_minor": 0
      },
      "text/plain": [
       "data/psgs_w100/nq/train-00057-of-00157.p(…):   0%|          | 0.00/544M [00:00<?, ?B/s]"
      ]
     },
     "metadata": {},
     "output_type": "display_data"
    },
    {
     "data": {
      "application/vnd.jupyter.widget-view+json": {
       "model_id": "60d2ad48493c4563a5cfbe568a00aee4",
       "version_major": 2,
       "version_minor": 0
      },
      "text/plain": [
       "data/psgs_w100/nq/train-00058-of-00157.p(…):   0%|          | 0.00/544M [00:00<?, ?B/s]"
      ]
     },
     "metadata": {},
     "output_type": "display_data"
    },
    {
     "data": {
      "application/vnd.jupyter.widget-view+json": {
       "model_id": "e404efbe06954be08380dab66b2e20f0",
       "version_major": 2,
       "version_minor": 0
      },
      "text/plain": [
       "data/psgs_w100/nq/train-00059-of-00157.p(…):   0%|          | 0.00/544M [00:00<?, ?B/s]"
      ]
     },
     "metadata": {},
     "output_type": "display_data"
    },
    {
     "data": {
      "application/vnd.jupyter.widget-view+json": {
       "model_id": "76183768d2714c6bac5c155077a40045",
       "version_major": 2,
       "version_minor": 0
      },
      "text/plain": [
       "data/psgs_w100/nq/train-00060-of-00157.p(…):   0%|          | 0.00/544M [00:00<?, ?B/s]"
      ]
     },
     "metadata": {},
     "output_type": "display_data"
    },
    {
     "data": {
      "application/vnd.jupyter.widget-view+json": {
       "model_id": "1cf63913656f4e74b158e3d32db8aafb",
       "version_major": 2,
       "version_minor": 0
      },
      "text/plain": [
       "data/psgs_w100/nq/train-00061-of-00157.p(…):   0%|          | 0.00/543M [00:00<?, ?B/s]"
      ]
     },
     "metadata": {},
     "output_type": "display_data"
    },
    {
     "data": {
      "application/vnd.jupyter.widget-view+json": {
       "model_id": "884fbfe86d744e299d11fd3067504391",
       "version_major": 2,
       "version_minor": 0
      },
      "text/plain": [
       "data/psgs_w100/nq/train-00062-of-00157.p(…):   0%|          | 0.00/542M [00:00<?, ?B/s]"
      ]
     },
     "metadata": {},
     "output_type": "display_data"
    },
    {
     "data": {
      "application/vnd.jupyter.widget-view+json": {
       "model_id": "f24baa675e534d378662454e37656d6e",
       "version_major": 2,
       "version_minor": 0
      },
      "text/plain": [
       "data/psgs_w100/nq/train-00063-of-00157.p(…):   0%|          | 0.00/543M [00:00<?, ?B/s]"
      ]
     },
     "metadata": {},
     "output_type": "display_data"
    },
    {
     "data": {
      "application/vnd.jupyter.widget-view+json": {
       "model_id": "4846680740e342a0ac8da8916b7d78ee",
       "version_major": 2,
       "version_minor": 0
      },
      "text/plain": [
       "data/psgs_w100/nq/train-00064-of-00157.p(…):   0%|          | 0.00/543M [00:00<?, ?B/s]"
      ]
     },
     "metadata": {},
     "output_type": "display_data"
    },
    {
     "data": {
      "application/vnd.jupyter.widget-view+json": {
       "model_id": "d1fd5b8f9b694d8cad3c8ed77fe17505",
       "version_major": 2,
       "version_minor": 0
      },
      "text/plain": [
       "data/psgs_w100/nq/train-00065-of-00157.p(…):   0%|          | 0.00/543M [00:00<?, ?B/s]"
      ]
     },
     "metadata": {},
     "output_type": "display_data"
    },
    {
     "data": {
      "application/vnd.jupyter.widget-view+json": {
       "model_id": "50fb0cbfa31e4cfe882b8c0152ea2533",
       "version_major": 2,
       "version_minor": 0
      },
      "text/plain": [
       "data/psgs_w100/nq/train-00066-of-00157.p(…):   0%|          | 0.00/544M [00:00<?, ?B/s]"
      ]
     },
     "metadata": {},
     "output_type": "display_data"
    },
    {
     "data": {
      "application/vnd.jupyter.widget-view+json": {
       "model_id": "328b32f7c16a4acbb809d4d91cf5d3d1",
       "version_major": 2,
       "version_minor": 0
      },
      "text/plain": [
       "data/psgs_w100/nq/train-00067-of-00157.p(…):   0%|          | 0.00/543M [00:00<?, ?B/s]"
      ]
     },
     "metadata": {},
     "output_type": "display_data"
    },
    {
     "data": {
      "application/vnd.jupyter.widget-view+json": {
       "model_id": "ecdfbca97e684343a9d27ec777e5bee9",
       "version_major": 2,
       "version_minor": 0
      },
      "text/plain": [
       "data/psgs_w100/nq/train-00068-of-00157.p(…):   0%|          | 0.00/543M [00:00<?, ?B/s]"
      ]
     },
     "metadata": {},
     "output_type": "display_data"
    },
    {
     "data": {
      "application/vnd.jupyter.widget-view+json": {
       "model_id": "8fad9f63457d43baadf8eeb35e87c74a",
       "version_major": 2,
       "version_minor": 0
      },
      "text/plain": [
       "data/psgs_w100/nq/train-00069-of-00157.p(…):   0%|          | 0.00/543M [00:00<?, ?B/s]"
      ]
     },
     "metadata": {},
     "output_type": "display_data"
    },
    {
     "data": {
      "application/vnd.jupyter.widget-view+json": {
       "model_id": "5b6e2a75e85b4e46b75ad1d56345fd31",
       "version_major": 2,
       "version_minor": 0
      },
      "text/plain": [
       "data/psgs_w100/nq/train-00070-of-00157.p(…):   0%|          | 0.00/543M [00:00<?, ?B/s]"
      ]
     },
     "metadata": {},
     "output_type": "display_data"
    },
    {
     "data": {
      "application/vnd.jupyter.widget-view+json": {
       "model_id": "e988b3ba1778471d98b1662d293e9ca1",
       "version_major": 2,
       "version_minor": 0
      },
      "text/plain": [
       "data/psgs_w100/nq/train-00071-of-00157.p(…):   0%|          | 0.00/543M [00:00<?, ?B/s]"
      ]
     },
     "metadata": {},
     "output_type": "display_data"
    },
    {
     "data": {
      "application/vnd.jupyter.widget-view+json": {
       "model_id": "0aa94eb61edb4354bdf6299d3c6ad633",
       "version_major": 2,
       "version_minor": 0
      },
      "text/plain": [
       "data/psgs_w100/nq/train-00072-of-00157.p(…):   0%|          | 0.00/543M [00:00<?, ?B/s]"
      ]
     },
     "metadata": {},
     "output_type": "display_data"
    },
    {
     "data": {
      "application/vnd.jupyter.widget-view+json": {
       "model_id": "1d25f51c39a74f9ea561289299fbac79",
       "version_major": 2,
       "version_minor": 0
      },
      "text/plain": [
       "data/psgs_w100/nq/train-00073-of-00157.p(…):   0%|          | 0.00/544M [00:00<?, ?B/s]"
      ]
     },
     "metadata": {},
     "output_type": "display_data"
    },
    {
     "data": {
      "application/vnd.jupyter.widget-view+json": {
       "model_id": "24119971bd3e4ae3a553474b665e65ed",
       "version_major": 2,
       "version_minor": 0
      },
      "text/plain": [
       "data/psgs_w100/nq/train-00074-of-00157.p(…):   0%|          | 0.00/543M [00:00<?, ?B/s]"
      ]
     },
     "metadata": {},
     "output_type": "display_data"
    },
    {
     "data": {
      "application/vnd.jupyter.widget-view+json": {
       "model_id": "b7aae8f6b2624e789602b932e087fe4b",
       "version_major": 2,
       "version_minor": 0
      },
      "text/plain": [
       "data/psgs_w100/nq/train-00075-of-00157.p(…):   0%|          | 0.00/543M [00:00<?, ?B/s]"
      ]
     },
     "metadata": {},
     "output_type": "display_data"
    },
    {
     "data": {
      "application/vnd.jupyter.widget-view+json": {
       "model_id": "d6e55a81a0d742f1ac91e848d355ffa4",
       "version_major": 2,
       "version_minor": 0
      },
      "text/plain": [
       "data/psgs_w100/nq/train-00076-of-00157.p(…):   0%|          | 0.00/543M [00:00<?, ?B/s]"
      ]
     },
     "metadata": {},
     "output_type": "display_data"
    },
    {
     "data": {
      "application/vnd.jupyter.widget-view+json": {
       "model_id": "a8b7c0964b884322b25a68396e645191",
       "version_major": 2,
       "version_minor": 0
      },
      "text/plain": [
       "data/psgs_w100/nq/train-00077-of-00157.p(…):   0%|          | 0.00/542M [00:00<?, ?B/s]"
      ]
     },
     "metadata": {},
     "output_type": "display_data"
    },
    {
     "data": {
      "application/vnd.jupyter.widget-view+json": {
       "model_id": "6846c25ed2b24814bf3bb06c72367ace",
       "version_major": 2,
       "version_minor": 0
      },
      "text/plain": [
       "data/psgs_w100/nq/train-00078-of-00157.p(…):   0%|          | 0.00/543M [00:00<?, ?B/s]"
      ]
     },
     "metadata": {},
     "output_type": "display_data"
    },
    {
     "data": {
      "application/vnd.jupyter.widget-view+json": {
       "model_id": "bd695a6439884d8885919925a4d0f1f6",
       "version_major": 2,
       "version_minor": 0
      },
      "text/plain": [
       "data/psgs_w100/nq/train-00079-of-00157.p(…):   0%|          | 0.00/543M [00:00<?, ?B/s]"
      ]
     },
     "metadata": {},
     "output_type": "display_data"
    },
    {
     "data": {
      "application/vnd.jupyter.widget-view+json": {
       "model_id": "98dedf4953ed448d875ca52d27bffa83",
       "version_major": 2,
       "version_minor": 0
      },
      "text/plain": [
       "data/psgs_w100/nq/train-00080-of-00157.p(…):   0%|          | 0.00/543M [00:00<?, ?B/s]"
      ]
     },
     "metadata": {},
     "output_type": "display_data"
    },
    {
     "data": {
      "application/vnd.jupyter.widget-view+json": {
       "model_id": "85cc462b64c844d4b6843790c5048b59",
       "version_major": 2,
       "version_minor": 0
      },
      "text/plain": [
       "data/psgs_w100/nq/train-00081-of-00157.p(…):   0%|          | 0.00/543M [00:00<?, ?B/s]"
      ]
     },
     "metadata": {},
     "output_type": "display_data"
    },
    {
     "data": {
      "application/vnd.jupyter.widget-view+json": {
       "model_id": "256e0c184fca48a8894244f09c9be0ac",
       "version_major": 2,
       "version_minor": 0
      },
      "text/plain": [
       "data/psgs_w100/nq/train-00082-of-00157.p(…):   0%|          | 0.00/543M [00:00<?, ?B/s]"
      ]
     },
     "metadata": {},
     "output_type": "display_data"
    },
    {
     "data": {
      "application/vnd.jupyter.widget-view+json": {
       "model_id": "af73b405ee1446749dcb28f2b12db70b",
       "version_major": 2,
       "version_minor": 0
      },
      "text/plain": [
       "data/psgs_w100/nq/train-00083-of-00157.p(…):   0%|          | 0.00/543M [00:00<?, ?B/s]"
      ]
     },
     "metadata": {},
     "output_type": "display_data"
    },
    {
     "data": {
      "application/vnd.jupyter.widget-view+json": {
       "model_id": "a0c4b7a6fa8945debd94036d2c2fee86",
       "version_major": 2,
       "version_minor": 0
      },
      "text/plain": [
       "data/psgs_w100/nq/train-00084-of-00157.p(…):   0%|          | 0.00/543M [00:00<?, ?B/s]"
      ]
     },
     "metadata": {},
     "output_type": "display_data"
    },
    {
     "data": {
      "application/vnd.jupyter.widget-view+json": {
       "model_id": "10e109dd9ddf4be7b8e9eb8924895588",
       "version_major": 2,
       "version_minor": 0
      },
      "text/plain": [
       "data/psgs_w100/nq/train-00085-of-00157.p(…):   0%|          | 0.00/543M [00:00<?, ?B/s]"
      ]
     },
     "metadata": {},
     "output_type": "display_data"
    },
    {
     "data": {
      "application/vnd.jupyter.widget-view+json": {
       "model_id": "dab2e5244c6948768d3060a6edf0c5ac",
       "version_major": 2,
       "version_minor": 0
      },
      "text/plain": [
       "data/psgs_w100/nq/train-00086-of-00157.p(…):   0%|          | 0.00/543M [00:00<?, ?B/s]"
      ]
     },
     "metadata": {},
     "output_type": "display_data"
    },
    {
     "data": {
      "application/vnd.jupyter.widget-view+json": {
       "model_id": "a87ad9b9e1a24eb89d31690eaf592c1c",
       "version_major": 2,
       "version_minor": 0
      },
      "text/plain": [
       "data/psgs_w100/nq/train-00087-of-00157.p(…):   0%|          | 0.00/543M [00:00<?, ?B/s]"
      ]
     },
     "metadata": {},
     "output_type": "display_data"
    },
    {
     "data": {
      "application/vnd.jupyter.widget-view+json": {
       "model_id": "1a0b794fb93d40aca8ffedc3c1d45bc5",
       "version_major": 2,
       "version_minor": 0
      },
      "text/plain": [
       "data/psgs_w100/nq/train-00088-of-00157.p(…):   0%|          | 0.00/543M [00:00<?, ?B/s]"
      ]
     },
     "metadata": {},
     "output_type": "display_data"
    },
    {
     "data": {
      "application/vnd.jupyter.widget-view+json": {
       "model_id": "29ee568bd83d4133bf6c230a02cdc069",
       "version_major": 2,
       "version_minor": 0
      },
      "text/plain": [
       "data/psgs_w100/nq/train-00089-of-00157.p(…):   0%|          | 0.00/542M [00:00<?, ?B/s]"
      ]
     },
     "metadata": {},
     "output_type": "display_data"
    },
    {
     "data": {
      "application/vnd.jupyter.widget-view+json": {
       "model_id": "a28cd5b0eece40318c38ab9d3798cd0d",
       "version_major": 2,
       "version_minor": 0
      },
      "text/plain": [
       "data/psgs_w100/nq/train-00090-of-00157.p(…):   0%|          | 0.00/543M [00:00<?, ?B/s]"
      ]
     },
     "metadata": {},
     "output_type": "display_data"
    },
    {
     "data": {
      "application/vnd.jupyter.widget-view+json": {
       "model_id": "0b35229ec0ec441f9089c3e75f73536b",
       "version_major": 2,
       "version_minor": 0
      },
      "text/plain": [
       "data/psgs_w100/nq/train-00091-of-00157.p(…):   0%|          | 0.00/543M [00:00<?, ?B/s]"
      ]
     },
     "metadata": {},
     "output_type": "display_data"
    },
    {
     "data": {
      "application/vnd.jupyter.widget-view+json": {
       "model_id": "a9a22cf5053b4db797276a575d87c5a4",
       "version_major": 2,
       "version_minor": 0
      },
      "text/plain": [
       "data/psgs_w100/nq/train-00092-of-00157.p(…):   0%|          | 0.00/543M [00:00<?, ?B/s]"
      ]
     },
     "metadata": {},
     "output_type": "display_data"
    },
    {
     "data": {
      "application/vnd.jupyter.widget-view+json": {
       "model_id": "adc7a9df8a81400ea7f680058bc7d17b",
       "version_major": 2,
       "version_minor": 0
      },
      "text/plain": [
       "data/psgs_w100/nq/train-00093-of-00157.p(…):   0%|          | 0.00/544M [00:00<?, ?B/s]"
      ]
     },
     "metadata": {},
     "output_type": "display_data"
    },
    {
     "data": {
      "application/vnd.jupyter.widget-view+json": {
       "model_id": "fcd7ce79e58f48429bc64d74e08860fa",
       "version_major": 2,
       "version_minor": 0
      },
      "text/plain": [
       "data/psgs_w100/nq/train-00094-of-00157.p(…):   0%|          | 0.00/543M [00:00<?, ?B/s]"
      ]
     },
     "metadata": {},
     "output_type": "display_data"
    },
    {
     "data": {
      "application/vnd.jupyter.widget-view+json": {
       "model_id": "2ce41a1583554e83821317401847a4ca",
       "version_major": 2,
       "version_minor": 0
      },
      "text/plain": [
       "data/psgs_w100/nq/train-00095-of-00157.p(…):   0%|          | 0.00/543M [00:00<?, ?B/s]"
      ]
     },
     "metadata": {},
     "output_type": "display_data"
    },
    {
     "data": {
      "application/vnd.jupyter.widget-view+json": {
       "model_id": "b0841d7e7740429f8ec419bf31ed5903",
       "version_major": 2,
       "version_minor": 0
      },
      "text/plain": [
       "data/psgs_w100/nq/train-00096-of-00157.p(…):   0%|          | 0.00/543M [00:00<?, ?B/s]"
      ]
     },
     "metadata": {},
     "output_type": "display_data"
    },
    {
     "data": {
      "application/vnd.jupyter.widget-view+json": {
       "model_id": "509e1547fbbe4a8a91299988cb92b4db",
       "version_major": 2,
       "version_minor": 0
      },
      "text/plain": [
       "data/psgs_w100/nq/train-00097-of-00157.p(…):   0%|          | 0.00/542M [00:00<?, ?B/s]"
      ]
     },
     "metadata": {},
     "output_type": "display_data"
    },
    {
     "data": {
      "application/vnd.jupyter.widget-view+json": {
       "model_id": "7b94e9e3856a451f94db674f1d360e41",
       "version_major": 2,
       "version_minor": 0
      },
      "text/plain": [
       "data/psgs_w100/nq/train-00098-of-00157.p(…):   0%|          | 0.00/543M [00:00<?, ?B/s]"
      ]
     },
     "metadata": {},
     "output_type": "display_data"
    },
    {
     "data": {
      "application/vnd.jupyter.widget-view+json": {
       "model_id": "37274f8248d84f50aae2471ce6818e80",
       "version_major": 2,
       "version_minor": 0
      },
      "text/plain": [
       "data/psgs_w100/nq/train-00099-of-00157.p(…):   0%|          | 0.00/543M [00:00<?, ?B/s]"
      ]
     },
     "metadata": {},
     "output_type": "display_data"
    },
    {
     "data": {
      "application/vnd.jupyter.widget-view+json": {
       "model_id": "e2090701036944e496ea3fe79b95e1a6",
       "version_major": 2,
       "version_minor": 0
      },
      "text/plain": [
       "data/psgs_w100/nq/train-00100-of-00157.p(…):   0%|          | 0.00/543M [00:00<?, ?B/s]"
      ]
     },
     "metadata": {},
     "output_type": "display_data"
    },
    {
     "data": {
      "application/vnd.jupyter.widget-view+json": {
       "model_id": "6a804862780d427596f2b12f90f6a084",
       "version_major": 2,
       "version_minor": 0
      },
      "text/plain": [
       "data/psgs_w100/nq/train-00101-of-00157.p(…):   0%|          | 0.00/543M [00:00<?, ?B/s]"
      ]
     },
     "metadata": {},
     "output_type": "display_data"
    },
    {
     "data": {
      "application/vnd.jupyter.widget-view+json": {
       "model_id": "32392aab98464d3bac856d6570a7c136",
       "version_major": 2,
       "version_minor": 0
      },
      "text/plain": [
       "data/psgs_w100/nq/train-00102-of-00157.p(…):   0%|          | 0.00/543M [00:00<?, ?B/s]"
      ]
     },
     "metadata": {},
     "output_type": "display_data"
    },
    {
     "data": {
      "application/vnd.jupyter.widget-view+json": {
       "model_id": "fd08af3f1b544bce85c95aba9a72ace2",
       "version_major": 2,
       "version_minor": 0
      },
      "text/plain": [
       "data/psgs_w100/nq/train-00103-of-00157.p(…):   0%|          | 0.00/543M [00:00<?, ?B/s]"
      ]
     },
     "metadata": {},
     "output_type": "display_data"
    },
    {
     "data": {
      "application/vnd.jupyter.widget-view+json": {
       "model_id": "40b39228cf6345cea2918b06e3f3492e",
       "version_major": 2,
       "version_minor": 0
      },
      "text/plain": [
       "data/psgs_w100/nq/train-00104-of-00157.p(…):   0%|          | 0.00/542M [00:00<?, ?B/s]"
      ]
     },
     "metadata": {},
     "output_type": "display_data"
    },
    {
     "data": {
      "application/vnd.jupyter.widget-view+json": {
       "model_id": "512c107739aa4443ba0b873e0ce7d366",
       "version_major": 2,
       "version_minor": 0
      },
      "text/plain": [
       "data/psgs_w100/nq/train-00105-of-00157.p(…):   0%|          | 0.00/543M [00:00<?, ?B/s]"
      ]
     },
     "metadata": {},
     "output_type": "display_data"
    },
    {
     "data": {
      "application/vnd.jupyter.widget-view+json": {
       "model_id": "ac735dfd243d49aca2558a2d7c706dff",
       "version_major": 2,
       "version_minor": 0
      },
      "text/plain": [
       "data/psgs_w100/nq/train-00106-of-00157.p(…):   0%|          | 0.00/543M [00:00<?, ?B/s]"
      ]
     },
     "metadata": {},
     "output_type": "display_data"
    },
    {
     "data": {
      "application/vnd.jupyter.widget-view+json": {
       "model_id": "36502317d42a41a7a8f4737aeca84eea",
       "version_major": 2,
       "version_minor": 0
      },
      "text/plain": [
       "data/psgs_w100/nq/train-00107-of-00157.p(…):   0%|          | 0.00/543M [00:00<?, ?B/s]"
      ]
     },
     "metadata": {},
     "output_type": "display_data"
    },
    {
     "data": {
      "application/vnd.jupyter.widget-view+json": {
       "model_id": "3b1f7e91ed62433ab1ffad097cbe3eb5",
       "version_major": 2,
       "version_minor": 0
      },
      "text/plain": [
       "data/psgs_w100/nq/train-00108-of-00157.p(…):   0%|          | 0.00/543M [00:00<?, ?B/s]"
      ]
     },
     "metadata": {},
     "output_type": "display_data"
    },
    {
     "data": {
      "application/vnd.jupyter.widget-view+json": {
       "model_id": "89799fca2928403dbfde96cc006f2780",
       "version_major": 2,
       "version_minor": 0
      },
      "text/plain": [
       "data/psgs_w100/nq/train-00109-of-00157.p(…):   0%|          | 0.00/543M [00:00<?, ?B/s]"
      ]
     },
     "metadata": {},
     "output_type": "display_data"
    },
    {
     "data": {
      "application/vnd.jupyter.widget-view+json": {
       "model_id": "4204c1d6c94d4d12a1a97cdf2ce4b84e",
       "version_major": 2,
       "version_minor": 0
      },
      "text/plain": [
       "data/psgs_w100/nq/train-00110-of-00157.p(…):   0%|          | 0.00/543M [00:00<?, ?B/s]"
      ]
     },
     "metadata": {},
     "output_type": "display_data"
    },
    {
     "data": {
      "application/vnd.jupyter.widget-view+json": {
       "model_id": "360ba36c828b4fb1a0d8defa729d35aa",
       "version_major": 2,
       "version_minor": 0
      },
      "text/plain": [
       "data/psgs_w100/nq/train-00111-of-00157.p(…):   0%|          | 0.00/542M [00:00<?, ?B/s]"
      ]
     },
     "metadata": {},
     "output_type": "display_data"
    },
    {
     "data": {
      "application/vnd.jupyter.widget-view+json": {
       "model_id": "467c2a025c32416cb2f2373a4c62e45b",
       "version_major": 2,
       "version_minor": 0
      },
      "text/plain": [
       "data/psgs_w100/nq/train-00112-of-00157.p(…):   0%|          | 0.00/543M [00:00<?, ?B/s]"
      ]
     },
     "metadata": {},
     "output_type": "display_data"
    },
    {
     "data": {
      "application/vnd.jupyter.widget-view+json": {
       "model_id": "c72a15eb98404855bf0f07e5a47ef505",
       "version_major": 2,
       "version_minor": 0
      },
      "text/plain": [
       "data/psgs_w100/nq/train-00113-of-00157.p(…):   0%|          | 0.00/543M [00:00<?, ?B/s]"
      ]
     },
     "metadata": {},
     "output_type": "display_data"
    },
    {
     "data": {
      "application/vnd.jupyter.widget-view+json": {
       "model_id": "cd26e823ee764f5b924077c1459011d8",
       "version_major": 2,
       "version_minor": 0
      },
      "text/plain": [
       "data/psgs_w100/nq/train-00114-of-00157.p(…):   0%|          | 0.00/544M [00:00<?, ?B/s]"
      ]
     },
     "metadata": {},
     "output_type": "display_data"
    },
    {
     "data": {
      "application/vnd.jupyter.widget-view+json": {
       "model_id": "599767ecc0c140af93dc00e802e3b004",
       "version_major": 2,
       "version_minor": 0
      },
      "text/plain": [
       "data/psgs_w100/nq/train-00115-of-00157.p(…):   0%|          | 0.00/543M [00:00<?, ?B/s]"
      ]
     },
     "metadata": {},
     "output_type": "display_data"
    },
    {
     "data": {
      "application/vnd.jupyter.widget-view+json": {
       "model_id": "0b3c750bc61e4bf78a9b8c5d7b0cd072",
       "version_major": 2,
       "version_minor": 0
      },
      "text/plain": [
       "data/psgs_w100/nq/train-00116-of-00157.p(…):   0%|          | 0.00/543M [00:00<?, ?B/s]"
      ]
     },
     "metadata": {},
     "output_type": "display_data"
    },
    {
     "data": {
      "application/vnd.jupyter.widget-view+json": {
       "model_id": "2b99ecf4925f4c29a7d04bfa03006533",
       "version_major": 2,
       "version_minor": 0
      },
      "text/plain": [
       "data/psgs_w100/nq/train-00117-of-00157.p(…):   0%|          | 0.00/543M [00:00<?, ?B/s]"
      ]
     },
     "metadata": {},
     "output_type": "display_data"
    },
    {
     "data": {
      "application/vnd.jupyter.widget-view+json": {
       "model_id": "571b0b757e1d43f19e021c14042b1b44",
       "version_major": 2,
       "version_minor": 0
      },
      "text/plain": [
       "data/psgs_w100/nq/train-00118-of-00157.p(…):   0%|          | 0.00/542M [00:00<?, ?B/s]"
      ]
     },
     "metadata": {},
     "output_type": "display_data"
    },
    {
     "data": {
      "application/vnd.jupyter.widget-view+json": {
       "model_id": "fe6327ae88bb49568beeece687508eb0",
       "version_major": 2,
       "version_minor": 0
      },
      "text/plain": [
       "data/psgs_w100/nq/train-00119-of-00157.p(…):   0%|          | 0.00/543M [00:00<?, ?B/s]"
      ]
     },
     "metadata": {},
     "output_type": "display_data"
    },
    {
     "data": {
      "application/vnd.jupyter.widget-view+json": {
       "model_id": "6dfae654fd7a4794a9bfaecadff3b6bc",
       "version_major": 2,
       "version_minor": 0
      },
      "text/plain": [
       "data/psgs_w100/nq/train-00120-of-00157.p(…):   0%|          | 0.00/543M [00:00<?, ?B/s]"
      ]
     },
     "metadata": {},
     "output_type": "display_data"
    },
    {
     "data": {
      "application/vnd.jupyter.widget-view+json": {
       "model_id": "99a27f50a9b84c5b83b68fd38478e72f",
       "version_major": 2,
       "version_minor": 0
      },
      "text/plain": [
       "data/psgs_w100/nq/train-00121-of-00157.p(…):   0%|          | 0.00/543M [00:00<?, ?B/s]"
      ]
     },
     "metadata": {},
     "output_type": "display_data"
    },
    {
     "data": {
      "application/vnd.jupyter.widget-view+json": {
       "model_id": "ec34567e0c794282a0483185ac90f112",
       "version_major": 2,
       "version_minor": 0
      },
      "text/plain": [
       "data/psgs_w100/nq/train-00122-of-00157.p(…):   0%|          | 0.00/543M [00:00<?, ?B/s]"
      ]
     },
     "metadata": {},
     "output_type": "display_data"
    },
    {
     "data": {
      "application/vnd.jupyter.widget-view+json": {
       "model_id": "a1367cd25aec4b46ad86bb2b69d5c066",
       "version_major": 2,
       "version_minor": 0
      },
      "text/plain": [
       "data/psgs_w100/nq/train-00123-of-00157.p(…):   0%|          | 0.00/543M [00:00<?, ?B/s]"
      ]
     },
     "metadata": {},
     "output_type": "display_data"
    },
    {
     "data": {
      "application/vnd.jupyter.widget-view+json": {
       "model_id": "6171757ceeba4cefb5f9e0289ba23ce8",
       "version_major": 2,
       "version_minor": 0
      },
      "text/plain": [
       "data/psgs_w100/nq/train-00124-of-00157.p(…):   0%|          | 0.00/542M [00:00<?, ?B/s]"
      ]
     },
     "metadata": {},
     "output_type": "display_data"
    },
    {
     "data": {
      "application/vnd.jupyter.widget-view+json": {
       "model_id": "6026f8f091b64c1b9769cab1c5c3bf59",
       "version_major": 2,
       "version_minor": 0
      },
      "text/plain": [
       "data/psgs_w100/nq/train-00125-of-00157.p(…):   0%|          | 0.00/542M [00:00<?, ?B/s]"
      ]
     },
     "metadata": {},
     "output_type": "display_data"
    },
    {
     "data": {
      "application/vnd.jupyter.widget-view+json": {
       "model_id": "573d31e1d73a42edabc4d38da30824fa",
       "version_major": 2,
       "version_minor": 0
      },
      "text/plain": [
       "data/psgs_w100/nq/train-00126-of-00157.p(…):   0%|          | 0.00/543M [00:00<?, ?B/s]"
      ]
     },
     "metadata": {},
     "output_type": "display_data"
    },
    {
     "data": {
      "application/vnd.jupyter.widget-view+json": {
       "model_id": "2fb6f75db42d463c99669929a887daf5",
       "version_major": 2,
       "version_minor": 0
      },
      "text/plain": [
       "data/psgs_w100/nq/train-00127-of-00157.p(…):   0%|          | 0.00/543M [00:00<?, ?B/s]"
      ]
     },
     "metadata": {},
     "output_type": "display_data"
    },
    {
     "data": {
      "application/vnd.jupyter.widget-view+json": {
       "model_id": "5065d0e56147466b8ba9a509dbdf89a5",
       "version_major": 2,
       "version_minor": 0
      },
      "text/plain": [
       "data/psgs_w100/nq/train-00128-of-00157.p(…):   0%|          | 0.00/543M [00:00<?, ?B/s]"
      ]
     },
     "metadata": {},
     "output_type": "display_data"
    },
    {
     "data": {
      "application/vnd.jupyter.widget-view+json": {
       "model_id": "a6d5eb01e2e94b71a8bf4a04e0040634",
       "version_major": 2,
       "version_minor": 0
      },
      "text/plain": [
       "data/psgs_w100/nq/train-00129-of-00157.p(…):   0%|          | 0.00/543M [00:00<?, ?B/s]"
      ]
     },
     "metadata": {},
     "output_type": "display_data"
    },
    {
     "data": {
      "application/vnd.jupyter.widget-view+json": {
       "model_id": "8d6d0a697d9f4e32bfe66f36791f0af4",
       "version_major": 2,
       "version_minor": 0
      },
      "text/plain": [
       "data/psgs_w100/nq/train-00130-of-00157.p(…):   0%|          | 0.00/543M [00:00<?, ?B/s]"
      ]
     },
     "metadata": {},
     "output_type": "display_data"
    },
    {
     "data": {
      "application/vnd.jupyter.widget-view+json": {
       "model_id": "679572b78f7c4ee79339092debd87221",
       "version_major": 2,
       "version_minor": 0
      },
      "text/plain": [
       "data/psgs_w100/nq/train-00131-of-00157.p(…):   0%|          | 0.00/543M [00:00<?, ?B/s]"
      ]
     },
     "metadata": {},
     "output_type": "display_data"
    },
    {
     "data": {
      "application/vnd.jupyter.widget-view+json": {
       "model_id": "ab008d1cd5134457ab99cb09f6e1510f",
       "version_major": 2,
       "version_minor": 0
      },
      "text/plain": [
       "data/psgs_w100/nq/train-00132-of-00157.p(…):   0%|          | 0.00/542M [00:00<?, ?B/s]"
      ]
     },
     "metadata": {},
     "output_type": "display_data"
    },
    {
     "data": {
      "application/vnd.jupyter.widget-view+json": {
       "model_id": "b73d3a47be004bf58a08536f0c29dc43",
       "version_major": 2,
       "version_minor": 0
      },
      "text/plain": [
       "data/psgs_w100/nq/train-00133-of-00157.p(…):   0%|          | 0.00/543M [00:00<?, ?B/s]"
      ]
     },
     "metadata": {},
     "output_type": "display_data"
    },
    {
     "data": {
      "application/vnd.jupyter.widget-view+json": {
       "model_id": "d4d1753dda634e67bb4cc244d454d420",
       "version_major": 2,
       "version_minor": 0
      },
      "text/plain": [
       "data/psgs_w100/nq/train-00134-of-00157.p(…):   0%|          | 0.00/543M [00:00<?, ?B/s]"
      ]
     },
     "metadata": {},
     "output_type": "display_data"
    },
    {
     "data": {
      "application/vnd.jupyter.widget-view+json": {
       "model_id": "7215cc29db514b7e8a8df1183e2e7fb0",
       "version_major": 2,
       "version_minor": 0
      },
      "text/plain": [
       "data/psgs_w100/nq/train-00135-of-00157.p(…):   0%|          | 0.00/543M [00:00<?, ?B/s]"
      ]
     },
     "metadata": {},
     "output_type": "display_data"
    },
    {
     "data": {
      "application/vnd.jupyter.widget-view+json": {
       "model_id": "1c528b6df27549159e3963b7c3faa5a9",
       "version_major": 2,
       "version_minor": 0
      },
      "text/plain": [
       "data/psgs_w100/nq/train-00136-of-00157.p(…):   0%|          | 0.00/542M [00:00<?, ?B/s]"
      ]
     },
     "metadata": {},
     "output_type": "display_data"
    },
    {
     "data": {
      "application/vnd.jupyter.widget-view+json": {
       "model_id": "4eb8167594944436b166422e4f8a711a",
       "version_major": 2,
       "version_minor": 0
      },
      "text/plain": [
       "data/psgs_w100/nq/train-00137-of-00157.p(…):   0%|          | 0.00/542M [00:00<?, ?B/s]"
      ]
     },
     "metadata": {},
     "output_type": "display_data"
    },
    {
     "data": {
      "application/vnd.jupyter.widget-view+json": {
       "model_id": "167c14bc810d4f6eae99654d5726f142",
       "version_major": 2,
       "version_minor": 0
      },
      "text/plain": [
       "data/psgs_w100/nq/train-00138-of-00157.p(…):   0%|          | 0.00/542M [00:00<?, ?B/s]"
      ]
     },
     "metadata": {},
     "output_type": "display_data"
    },
    {
     "data": {
      "application/vnd.jupyter.widget-view+json": {
       "model_id": "a079ddcaf0d74017a521bcaff0c75896",
       "version_major": 2,
       "version_minor": 0
      },
      "text/plain": [
       "data/psgs_w100/nq/train-00139-of-00157.p(…):   0%|          | 0.00/543M [00:00<?, ?B/s]"
      ]
     },
     "metadata": {},
     "output_type": "display_data"
    },
    {
     "data": {
      "application/vnd.jupyter.widget-view+json": {
       "model_id": "9d7a9ceeed664b279c4a8940e4a8b5b9",
       "version_major": 2,
       "version_minor": 0
      },
      "text/plain": [
       "data/psgs_w100/nq/train-00140-of-00157.p(…):   0%|          | 0.00/542M [00:00<?, ?B/s]"
      ]
     },
     "metadata": {},
     "output_type": "display_data"
    },
    {
     "data": {
      "application/vnd.jupyter.widget-view+json": {
       "model_id": "8022b249229f4452ad558f98d12d25a7",
       "version_major": 2,
       "version_minor": 0
      },
      "text/plain": [
       "data/psgs_w100/nq/train-00141-of-00157.p(…):   0%|          | 0.00/542M [00:00<?, ?B/s]"
      ]
     },
     "metadata": {},
     "output_type": "display_data"
    },
    {
     "data": {
      "application/vnd.jupyter.widget-view+json": {
       "model_id": "6aba3fc398854706a21a970ad4be0442",
       "version_major": 2,
       "version_minor": 0
      },
      "text/plain": [
       "data/psgs_w100/nq/train-00142-of-00157.p(…):   0%|          | 0.00/543M [00:00<?, ?B/s]"
      ]
     },
     "metadata": {},
     "output_type": "display_data"
    },
    {
     "data": {
      "application/vnd.jupyter.widget-view+json": {
       "model_id": "1e609258f207466b893df6233952ad9a",
       "version_major": 2,
       "version_minor": 0
      },
      "text/plain": [
       "data/psgs_w100/nq/train-00143-of-00157.p(…):   0%|          | 0.00/542M [00:00<?, ?B/s]"
      ]
     },
     "metadata": {},
     "output_type": "display_data"
    },
    {
     "data": {
      "application/vnd.jupyter.widget-view+json": {
       "model_id": "46edf8653c654abb91ab95cfde0f04c2",
       "version_major": 2,
       "version_minor": 0
      },
      "text/plain": [
       "data/psgs_w100/nq/train-00144-of-00157.p(…):   0%|          | 0.00/542M [00:00<?, ?B/s]"
      ]
     },
     "metadata": {},
     "output_type": "display_data"
    },
    {
     "data": {
      "application/vnd.jupyter.widget-view+json": {
       "model_id": "9f2b87d56f9e480783ef83028c5830cb",
       "version_major": 2,
       "version_minor": 0
      },
      "text/plain": [
       "data/psgs_w100/nq/train-00145-of-00157.p(…):   0%|          | 0.00/542M [00:00<?, ?B/s]"
      ]
     },
     "metadata": {},
     "output_type": "display_data"
    },
    {
     "data": {
      "application/vnd.jupyter.widget-view+json": {
       "model_id": "5bd611055b714b3dac992702f33e2135",
       "version_major": 2,
       "version_minor": 0
      },
      "text/plain": [
       "data/psgs_w100/nq/train-00146-of-00157.p(…):   0%|          | 0.00/542M [00:00<?, ?B/s]"
      ]
     },
     "metadata": {},
     "output_type": "display_data"
    },
    {
     "data": {
      "application/vnd.jupyter.widget-view+json": {
       "model_id": "f35ebfcf479a41eb907d547f5907ea1b",
       "version_major": 2,
       "version_minor": 0
      },
      "text/plain": [
       "data/psgs_w100/nq/train-00147-of-00157.p(…):   0%|          | 0.00/542M [00:00<?, ?B/s]"
      ]
     },
     "metadata": {},
     "output_type": "display_data"
    },
    {
     "data": {
      "application/vnd.jupyter.widget-view+json": {
       "model_id": "4847f66a8330421f96a44f3eba5ffd75",
       "version_major": 2,
       "version_minor": 0
      },
      "text/plain": [
       "data/psgs_w100/nq/train-00148-of-00157.p(…):   0%|          | 0.00/543M [00:00<?, ?B/s]"
      ]
     },
     "metadata": {},
     "output_type": "display_data"
    },
    {
     "data": {
      "application/vnd.jupyter.widget-view+json": {
       "model_id": "267ff918f47647f3af7419b08679a87b",
       "version_major": 2,
       "version_minor": 0
      },
      "text/plain": [
       "data/psgs_w100/nq/train-00149-of-00157.p(…):   0%|          | 0.00/543M [00:00<?, ?B/s]"
      ]
     },
     "metadata": {},
     "output_type": "display_data"
    },
    {
     "data": {
      "application/vnd.jupyter.widget-view+json": {
       "model_id": "bf231b81ec75422181f7ba600cd280b4",
       "version_major": 2,
       "version_minor": 0
      },
      "text/plain": [
       "data/psgs_w100/nq/train-00150-of-00157.p(…):   0%|          | 0.00/543M [00:00<?, ?B/s]"
      ]
     },
     "metadata": {},
     "output_type": "display_data"
    },
    {
     "data": {
      "application/vnd.jupyter.widget-view+json": {
       "model_id": "9cc63133e22048cda724ff0dace88b5f",
       "version_major": 2,
       "version_minor": 0
      },
      "text/plain": [
       "data/psgs_w100/nq/train-00151-of-00157.p(…):   0%|          | 0.00/542M [00:00<?, ?B/s]"
      ]
     },
     "metadata": {},
     "output_type": "display_data"
    },
    {
     "data": {
      "application/vnd.jupyter.widget-view+json": {
       "model_id": "20b758de60dd452ea10b8a14bdd006df",
       "version_major": 2,
       "version_minor": 0
      },
      "text/plain": [
       "data/psgs_w100/nq/train-00152-of-00157.p(…):   0%|          | 0.00/542M [00:00<?, ?B/s]"
      ]
     },
     "metadata": {},
     "output_type": "display_data"
    },
    {
     "data": {
      "application/vnd.jupyter.widget-view+json": {
       "model_id": "e0ec451446aa4021801d59883e863f95",
       "version_major": 2,
       "version_minor": 0
      },
      "text/plain": [
       "data/psgs_w100/nq/train-00153-of-00157.p(…):   0%|          | 0.00/542M [00:00<?, ?B/s]"
      ]
     },
     "metadata": {},
     "output_type": "display_data"
    },
    {
     "data": {
      "application/vnd.jupyter.widget-view+json": {
       "model_id": "6c21ce094cd9419bb62110155cb057ca",
       "version_major": 2,
       "version_minor": 0
      },
      "text/plain": [
       "data/psgs_w100/nq/train-00154-of-00157.p(…):   0%|          | 0.00/542M [00:00<?, ?B/s]"
      ]
     },
     "metadata": {},
     "output_type": "display_data"
    },
    {
     "data": {
      "application/vnd.jupyter.widget-view+json": {
       "model_id": "7ecdf766c32c4ff1930d916a92f78e1c",
       "version_major": 2,
       "version_minor": 0
      },
      "text/plain": [
       "data/psgs_w100/nq/train-00155-of-00157.p(…):   0%|          | 0.00/542M [00:00<?, ?B/s]"
      ]
     },
     "metadata": {},
     "output_type": "display_data"
    },
    {
     "data": {
      "application/vnd.jupyter.widget-view+json": {
       "model_id": "6d35a358083a411caa5859ef6f871e15",
       "version_major": 2,
       "version_minor": 0
      },
      "text/plain": [
       "data/psgs_w100/nq/train-00156-of-00157.p(…):   0%|          | 0.00/542M [00:00<?, ?B/s]"
      ]
     },
     "metadata": {},
     "output_type": "display_data"
    },
    {
     "data": {
      "application/vnd.jupyter.widget-view+json": {
       "model_id": "158dd848d29f40e4a2a0e729400f62e8",
       "version_major": 2,
       "version_minor": 0
      },
      "text/plain": [
       "Generating train split:   0%|          | 0/21015300 [00:00<?, ? examples/s]"
      ]
     },
     "metadata": {},
     "output_type": "display_data"
    },
    {
     "data": {
      "application/vnd.jupyter.widget-view+json": {
       "model_id": "f5fc121c613a4e74b9238a739e859419",
       "version_major": 2,
       "version_minor": 0
      },
      "text/plain": [
       "Loading dataset shards:   0%|          | 0/161 [00:00<?, ?it/s]"
      ]
     },
     "metadata": {},
     "output_type": "display_data"
    },
    {
     "data": {
      "application/vnd.jupyter.widget-view+json": {
       "model_id": "8772f41ed5a34a02b1a5dbfb1c2bd86c",
       "version_major": 2,
       "version_minor": 0
      },
      "text/plain": [
       "  0%|          | 0/21016 [00:00<?, ?it/s]"
      ]
     },
     "metadata": {},
     "output_type": "display_data"
    },
    {
     "ename": "FileNotFoundError",
     "evalue": "[Errno 2] No such file or directory: '/home/aix7101/.cache/huggingface/datasets/wiki_dpr/psgs_w100.nq.compressed/0.0.0/66fd9b80f51375c02cd9010050e781ed3e8f759e868f690c31b2686a7a0eeb5c/psgs_w100.nq.IVF4096_HNSW128_PQ128-IP-train.faiss'",
     "output_type": "error",
     "traceback": [
      "\u001b[0;31m---------------------------------------------------------------------------\u001b[0m",
      "\u001b[0;31mFileNotFoundError\u001b[0m                         Traceback (most recent call last)",
      "Cell \u001b[0;32mIn[6], line 22\u001b[0m\n\u001b[1;32m     19\u001b[0m \u001b[38;5;28mprint\u001b[39m(qa_df\u001b[38;5;241m.\u001b[39mhead())\n\u001b[1;32m     21\u001b[0m \u001b[38;5;66;03m# 2. Corpus 데이터 (doc_id, text) → DPR Wikipedia passages\u001b[39;00m\n\u001b[0;32m---> 22\u001b[0m corpus \u001b[38;5;241m=\u001b[39m \u001b[43mload_dataset\u001b[49m\u001b[43m(\u001b[49m\u001b[38;5;124;43m\"\u001b[39;49m\u001b[38;5;124;43mwiki_dpr\u001b[39;49m\u001b[38;5;124;43m\"\u001b[39;49m\u001b[43m,\u001b[49m\u001b[43m \u001b[49m\u001b[38;5;124;43m\"\u001b[39;49m\u001b[38;5;124;43mpsgs_w100.nq.compressed\u001b[39;49m\u001b[38;5;124;43m\"\u001b[39;49m\u001b[43m,\u001b[49m\u001b[43m \u001b[49m\u001b[43msplit\u001b[49m\u001b[38;5;241;43m=\u001b[39;49m\u001b[38;5;124;43m\"\u001b[39;49m\u001b[38;5;124;43mtrain\u001b[39;49m\u001b[38;5;124;43m\"\u001b[39;49m\u001b[43m)\u001b[49m\n\u001b[1;32m     24\u001b[0m corpus_df \u001b[38;5;241m=\u001b[39m pd\u001b[38;5;241m.\u001b[39mDataFrame({\n\u001b[1;32m     25\u001b[0m     \u001b[38;5;124m\"\u001b[39m\u001b[38;5;124mdoc_id\u001b[39m\u001b[38;5;124m\"\u001b[39m: corpus[\u001b[38;5;124m\"\u001b[39m\u001b[38;5;124mid\u001b[39m\u001b[38;5;124m\"\u001b[39m],\n\u001b[1;32m     26\u001b[0m     \u001b[38;5;124m\"\u001b[39m\u001b[38;5;124mtext\u001b[39m\u001b[38;5;124m\"\u001b[39m: corpus[\u001b[38;5;124m\"\u001b[39m\u001b[38;5;124mtext\u001b[39m\u001b[38;5;124m\"\u001b[39m]\n\u001b[1;32m     27\u001b[0m })\n\u001b[1;32m     28\u001b[0m \u001b[38;5;28mprint\u001b[39m(\u001b[38;5;124m\"\u001b[39m\u001b[38;5;124m✅ Loaded corpus passages:\u001b[39m\u001b[38;5;124m\"\u001b[39m, \u001b[38;5;28mlen\u001b[39m(corpus_df))\n",
      "File \u001b[0;32m~/anaconda3/envs/j_project/lib/python3.9/site-packages/datasets/load.py:2095\u001b[0m, in \u001b[0;36mload_dataset\u001b[0;34m(path, name, data_dir, data_files, split, cache_dir, features, download_config, download_mode, verification_mode, keep_in_memory, save_infos, revision, token, streaming, num_proc, storage_options, trust_remote_code, **config_kwargs)\u001b[0m\n\u001b[1;32m   2091\u001b[0m \u001b[38;5;66;03m# Build dataset for splits\u001b[39;00m\n\u001b[1;32m   2092\u001b[0m keep_in_memory \u001b[38;5;241m=\u001b[39m (\n\u001b[1;32m   2093\u001b[0m     keep_in_memory \u001b[38;5;28;01mif\u001b[39;00m keep_in_memory \u001b[38;5;129;01mis\u001b[39;00m \u001b[38;5;129;01mnot\u001b[39;00m \u001b[38;5;28;01mNone\u001b[39;00m \u001b[38;5;28;01melse\u001b[39;00m is_small_dataset(builder_instance\u001b[38;5;241m.\u001b[39minfo\u001b[38;5;241m.\u001b[39mdataset_size)\n\u001b[1;32m   2094\u001b[0m )\n\u001b[0;32m-> 2095\u001b[0m ds \u001b[38;5;241m=\u001b[39m \u001b[43mbuilder_instance\u001b[49m\u001b[38;5;241;43m.\u001b[39;49m\u001b[43mas_dataset\u001b[49m\u001b[43m(\u001b[49m\u001b[43msplit\u001b[49m\u001b[38;5;241;43m=\u001b[39;49m\u001b[43msplit\u001b[49m\u001b[43m,\u001b[49m\u001b[43m \u001b[49m\u001b[43mverification_mode\u001b[49m\u001b[38;5;241;43m=\u001b[39;49m\u001b[43mverification_mode\u001b[49m\u001b[43m,\u001b[49m\u001b[43m \u001b[49m\u001b[43min_memory\u001b[49m\u001b[38;5;241;43m=\u001b[39;49m\u001b[43mkeep_in_memory\u001b[49m\u001b[43m)\u001b[49m\n\u001b[1;32m   2096\u001b[0m \u001b[38;5;28;01mif\u001b[39;00m save_infos:\n\u001b[1;32m   2097\u001b[0m     builder_instance\u001b[38;5;241m.\u001b[39m_save_infos()\n",
      "File \u001b[0;32m~/anaconda3/envs/j_project/lib/python3.9/site-packages/datasets/builder.py:1127\u001b[0m, in \u001b[0;36mDatasetBuilder.as_dataset\u001b[0;34m(self, split, run_post_process, verification_mode, in_memory)\u001b[0m\n\u001b[1;32m   1124\u001b[0m verification_mode \u001b[38;5;241m=\u001b[39m VerificationMode(verification_mode \u001b[38;5;129;01mor\u001b[39;00m VerificationMode\u001b[38;5;241m.\u001b[39mBASIC_CHECKS)\n\u001b[1;32m   1126\u001b[0m \u001b[38;5;66;03m# Create a dataset for each of the given splits\u001b[39;00m\n\u001b[0;32m-> 1127\u001b[0m datasets \u001b[38;5;241m=\u001b[39m \u001b[43mmap_nested\u001b[49m\u001b[43m(\u001b[49m\n\u001b[1;32m   1128\u001b[0m \u001b[43m    \u001b[49m\u001b[43mpartial\u001b[49m\u001b[43m(\u001b[49m\n\u001b[1;32m   1129\u001b[0m \u001b[43m        \u001b[49m\u001b[38;5;28;43mself\u001b[39;49m\u001b[38;5;241;43m.\u001b[39;49m\u001b[43m_build_single_dataset\u001b[49m\u001b[43m,\u001b[49m\n\u001b[1;32m   1130\u001b[0m \u001b[43m        \u001b[49m\u001b[43mrun_post_process\u001b[49m\u001b[38;5;241;43m=\u001b[39;49m\u001b[43mrun_post_process\u001b[49m\u001b[43m,\u001b[49m\n\u001b[1;32m   1131\u001b[0m \u001b[43m        \u001b[49m\u001b[43mverification_mode\u001b[49m\u001b[38;5;241;43m=\u001b[39;49m\u001b[43mverification_mode\u001b[49m\u001b[43m,\u001b[49m\n\u001b[1;32m   1132\u001b[0m \u001b[43m        \u001b[49m\u001b[43min_memory\u001b[49m\u001b[38;5;241;43m=\u001b[39;49m\u001b[43min_memory\u001b[49m\u001b[43m,\u001b[49m\n\u001b[1;32m   1133\u001b[0m \u001b[43m    \u001b[49m\u001b[43m)\u001b[49m\u001b[43m,\u001b[49m\n\u001b[1;32m   1134\u001b[0m \u001b[43m    \u001b[49m\u001b[43msplit\u001b[49m\u001b[43m,\u001b[49m\n\u001b[1;32m   1135\u001b[0m \u001b[43m    \u001b[49m\u001b[43mmap_tuple\u001b[49m\u001b[38;5;241;43m=\u001b[39;49m\u001b[38;5;28;43;01mTrue\u001b[39;49;00m\u001b[43m,\u001b[49m\n\u001b[1;32m   1136\u001b[0m \u001b[43m    \u001b[49m\u001b[43mdisable_tqdm\u001b[49m\u001b[38;5;241;43m=\u001b[39;49m\u001b[38;5;28;43;01mTrue\u001b[39;49;00m\u001b[43m,\u001b[49m\n\u001b[1;32m   1137\u001b[0m \u001b[43m\u001b[49m\u001b[43m)\u001b[49m\n\u001b[1;32m   1138\u001b[0m \u001b[38;5;28;01mif\u001b[39;00m \u001b[38;5;28misinstance\u001b[39m(datasets, \u001b[38;5;28mdict\u001b[39m):\n\u001b[1;32m   1139\u001b[0m     datasets \u001b[38;5;241m=\u001b[39m DatasetDict(datasets)\n",
      "File \u001b[0;32m~/anaconda3/envs/j_project/lib/python3.9/site-packages/datasets/utils/py_utils.py:486\u001b[0m, in \u001b[0;36mmap_nested\u001b[0;34m(function, data_struct, dict_only, map_list, map_tuple, map_numpy, num_proc, parallel_min_length, batched, batch_size, types, disable_tqdm, desc)\u001b[0m\n\u001b[1;32m    484\u001b[0m \u001b[38;5;28;01mif\u001b[39;00m batched:\n\u001b[1;32m    485\u001b[0m     data_struct \u001b[38;5;241m=\u001b[39m [data_struct]\n\u001b[0;32m--> 486\u001b[0m mapped \u001b[38;5;241m=\u001b[39m \u001b[43mfunction\u001b[49m\u001b[43m(\u001b[49m\u001b[43mdata_struct\u001b[49m\u001b[43m)\u001b[49m\n\u001b[1;32m    487\u001b[0m \u001b[38;5;28;01mif\u001b[39;00m batched:\n\u001b[1;32m    488\u001b[0m     mapped \u001b[38;5;241m=\u001b[39m mapped[\u001b[38;5;241m0\u001b[39m]\n",
      "File \u001b[0;32m~/anaconda3/envs/j_project/lib/python3.9/site-packages/datasets/builder.py:1169\u001b[0m, in \u001b[0;36mDatasetBuilder._build_single_dataset\u001b[0;34m(self, split, run_post_process, verification_mode, in_memory)\u001b[0m\n\u001b[1;32m   1164\u001b[0m         \u001b[38;5;28;01mraise\u001b[39;00m \u001b[38;5;167;01mValueError\u001b[39;00m(\u001b[38;5;124mf\u001b[39m\u001b[38;5;124m\"\u001b[39m\u001b[38;5;124mResources shouldn\u001b[39m\u001b[38;5;124m'\u001b[39m\u001b[38;5;124mt be in a sub-directory: \u001b[39m\u001b[38;5;132;01m{\u001b[39;00mresource_file_name\u001b[38;5;132;01m}\u001b[39;00m\u001b[38;5;124m\"\u001b[39m)\n\u001b[1;32m   1165\u001b[0m resources_paths \u001b[38;5;241m=\u001b[39m {\n\u001b[1;32m   1166\u001b[0m     resource_name: os\u001b[38;5;241m.\u001b[39mpath\u001b[38;5;241m.\u001b[39mjoin(\u001b[38;5;28mself\u001b[39m\u001b[38;5;241m.\u001b[39m_output_dir, resource_file_name)\n\u001b[1;32m   1167\u001b[0m     \u001b[38;5;28;01mfor\u001b[39;00m resource_name, resource_file_name \u001b[38;5;129;01min\u001b[39;00m \u001b[38;5;28mself\u001b[39m\u001b[38;5;241m.\u001b[39m_post_processing_resources(split)\u001b[38;5;241m.\u001b[39mitems()\n\u001b[1;32m   1168\u001b[0m }\n\u001b[0;32m-> 1169\u001b[0m post_processed \u001b[38;5;241m=\u001b[39m \u001b[38;5;28;43mself\u001b[39;49m\u001b[38;5;241;43m.\u001b[39;49m\u001b[43m_post_process\u001b[49m\u001b[43m(\u001b[49m\u001b[43mds\u001b[49m\u001b[43m,\u001b[49m\u001b[43m \u001b[49m\u001b[43mresources_paths\u001b[49m\u001b[43m)\u001b[49m\n\u001b[1;32m   1170\u001b[0m \u001b[38;5;28;01mif\u001b[39;00m post_processed \u001b[38;5;129;01mis\u001b[39;00m \u001b[38;5;129;01mnot\u001b[39;00m \u001b[38;5;28;01mNone\u001b[39;00m:\n\u001b[1;32m   1171\u001b[0m     ds \u001b[38;5;241m=\u001b[39m post_processed\n",
      "File \u001b[0;32m~/.cache/huggingface/modules/datasets_modules/datasets/wiki_dpr/66fd9b80f51375c02cd9010050e781ed3e8f759e868f690c31b2686a7a0eeb5c/wiki_dpr.py:204\u001b[0m, in \u001b[0;36mWikiDpr._post_process\u001b[0;34m(self, dataset, resources_paths)\u001b[0m\n\u001b[1;32m    198\u001b[0m             dataset\u001b[38;5;241m.\u001b[39madd_faiss_index(\n\u001b[1;32m    199\u001b[0m                 \u001b[38;5;124m\"\u001b[39m\u001b[38;5;124membeddings\u001b[39m\u001b[38;5;124m\"\u001b[39m,\n\u001b[1;32m    200\u001b[0m                 train_size\u001b[38;5;241m=\u001b[39mtrain_size,\n\u001b[1;32m    201\u001b[0m                 custom_index\u001b[38;5;241m=\u001b[39mivf_index,\n\u001b[1;32m    202\u001b[0m             )\n\u001b[1;32m    203\u001b[0m         logger\u001b[38;5;241m.\u001b[39minfo(\u001b[38;5;124m\"\u001b[39m\u001b[38;5;124mSaving wiki_dpr faiss index\u001b[39m\u001b[38;5;124m\"\u001b[39m)\n\u001b[0;32m--> 204\u001b[0m         \u001b[43mdataset\u001b[49m\u001b[38;5;241;43m.\u001b[39;49m\u001b[43msave_faiss_index\u001b[49m\u001b[43m(\u001b[49m\u001b[38;5;124;43m\"\u001b[39;49m\u001b[38;5;124;43membeddings\u001b[39;49m\u001b[38;5;124;43m\"\u001b[39;49m\u001b[43m,\u001b[49m\u001b[43m \u001b[49m\u001b[43mindex_file\u001b[49m\u001b[43m)\u001b[49m\n\u001b[1;32m    205\u001b[0m \u001b[38;5;28;01mreturn\u001b[39;00m dataset\n",
      "File \u001b[0;32m~/anaconda3/envs/j_project/lib/python3.9/site-packages/datasets/search.py:550\u001b[0m, in \u001b[0;36mIndexableMixin.save_faiss_index\u001b[0;34m(self, index_name, file, storage_options)\u001b[0m\n\u001b[1;32m    548\u001b[0m \u001b[38;5;28;01mif\u001b[39;00m \u001b[38;5;129;01mnot\u001b[39;00m \u001b[38;5;28misinstance\u001b[39m(index, FaissIndex):\n\u001b[1;32m    549\u001b[0m     \u001b[38;5;28;01mraise\u001b[39;00m \u001b[38;5;167;01mValueError\u001b[39;00m(\u001b[38;5;124mf\u001b[39m\u001b[38;5;124m\"\u001b[39m\u001b[38;5;124mIndex \u001b[39m\u001b[38;5;124m'\u001b[39m\u001b[38;5;132;01m{\u001b[39;00mindex_name\u001b[38;5;132;01m}\u001b[39;00m\u001b[38;5;124m'\u001b[39m\u001b[38;5;124m is not a FaissIndex but a \u001b[39m\u001b[38;5;124m'\u001b[39m\u001b[38;5;132;01m{\u001b[39;00m\u001b[38;5;28mtype\u001b[39m(index)\u001b[38;5;132;01m}\u001b[39;00m\u001b[38;5;124m'\u001b[39m\u001b[38;5;124m\"\u001b[39m)\n\u001b[0;32m--> 550\u001b[0m \u001b[43mindex\u001b[49m\u001b[38;5;241;43m.\u001b[39;49m\u001b[43msave\u001b[49m\u001b[43m(\u001b[49m\u001b[43mfile\u001b[49m\u001b[43m,\u001b[49m\u001b[43m \u001b[49m\u001b[43mstorage_options\u001b[49m\u001b[38;5;241;43m=\u001b[39;49m\u001b[43mstorage_options\u001b[49m\u001b[43m)\u001b[49m\n\u001b[1;32m    551\u001b[0m logger\u001b[38;5;241m.\u001b[39minfo(\u001b[38;5;124mf\u001b[39m\u001b[38;5;124m\"\u001b[39m\u001b[38;5;124mSaved FaissIndex \u001b[39m\u001b[38;5;132;01m{\u001b[39;00mindex_name\u001b[38;5;132;01m}\u001b[39;00m\u001b[38;5;124m at \u001b[39m\u001b[38;5;132;01m{\u001b[39;00mfile\u001b[38;5;132;01m}\u001b[39;00m\u001b[38;5;124m\"\u001b[39m)\n",
      "File \u001b[0;32m~/anaconda3/envs/j_project/lib/python3.9/site-packages/datasets/search.py:396\u001b[0m, in \u001b[0;36mFaissIndex.save\u001b[0;34m(self, file, storage_options)\u001b[0m\n\u001b[1;32m    393\u001b[0m \u001b[38;5;28;01melse\u001b[39;00m:\n\u001b[1;32m    394\u001b[0m     index \u001b[38;5;241m=\u001b[39m \u001b[38;5;28mself\u001b[39m\u001b[38;5;241m.\u001b[39mfaiss_index\n\u001b[0;32m--> 396\u001b[0m \u001b[38;5;28;01mwith\u001b[39;00m fsspec\u001b[38;5;241m.\u001b[39mopen(\u001b[38;5;28mstr\u001b[39m(file), \u001b[38;5;124m\"\u001b[39m\u001b[38;5;124mwb\u001b[39m\u001b[38;5;124m\"\u001b[39m, \u001b[38;5;241m*\u001b[39m\u001b[38;5;241m*\u001b[39m(storage_options \u001b[38;5;129;01mor\u001b[39;00m {})) \u001b[38;5;28;01mas\u001b[39;00m f:\n\u001b[1;32m    397\u001b[0m     faiss\u001b[38;5;241m.\u001b[39mwrite_index(index, faiss\u001b[38;5;241m.\u001b[39mBufferedIOWriter(faiss\u001b[38;5;241m.\u001b[39mPyCallbackIOWriter(f\u001b[38;5;241m.\u001b[39mwrite)))\n",
      "File \u001b[0;32m~/anaconda3/envs/j_project/lib/python3.9/site-packages/fsspec/core.py:105\u001b[0m, in \u001b[0;36mOpenFile.__enter__\u001b[0;34m(self)\u001b[0m\n\u001b[1;32m    102\u001b[0m mode \u001b[38;5;241m=\u001b[39m \u001b[38;5;28mself\u001b[39m\u001b[38;5;241m.\u001b[39mmode\u001b[38;5;241m.\u001b[39mreplace(\u001b[38;5;124m\"\u001b[39m\u001b[38;5;124mt\u001b[39m\u001b[38;5;124m\"\u001b[39m, \u001b[38;5;124m\"\u001b[39m\u001b[38;5;124m\"\u001b[39m)\u001b[38;5;241m.\u001b[39mreplace(\u001b[38;5;124m\"\u001b[39m\u001b[38;5;124mb\u001b[39m\u001b[38;5;124m\"\u001b[39m, \u001b[38;5;124m\"\u001b[39m\u001b[38;5;124m\"\u001b[39m) \u001b[38;5;241m+\u001b[39m \u001b[38;5;124m\"\u001b[39m\u001b[38;5;124mb\u001b[39m\u001b[38;5;124m\"\u001b[39m\n\u001b[1;32m    104\u001b[0m \u001b[38;5;28;01mtry\u001b[39;00m:\n\u001b[0;32m--> 105\u001b[0m     f \u001b[38;5;241m=\u001b[39m \u001b[38;5;28;43mself\u001b[39;49m\u001b[38;5;241;43m.\u001b[39;49m\u001b[43mfs\u001b[49m\u001b[38;5;241;43m.\u001b[39;49m\u001b[43mopen\u001b[49m\u001b[43m(\u001b[49m\u001b[38;5;28;43mself\u001b[39;49m\u001b[38;5;241;43m.\u001b[39;49m\u001b[43mpath\u001b[49m\u001b[43m,\u001b[49m\u001b[43m \u001b[49m\u001b[43mmode\u001b[49m\u001b[38;5;241;43m=\u001b[39;49m\u001b[43mmode\u001b[49m\u001b[43m)\u001b[49m\n\u001b[1;32m    106\u001b[0m \u001b[38;5;28;01mexcept\u001b[39;00m \u001b[38;5;167;01mFileNotFoundError\u001b[39;00m \u001b[38;5;28;01mas\u001b[39;00m e:\n\u001b[1;32m    107\u001b[0m     \u001b[38;5;28;01mif\u001b[39;00m has_magic(\u001b[38;5;28mself\u001b[39m\u001b[38;5;241m.\u001b[39mpath):\n",
      "File \u001b[0;32m~/anaconda3/envs/j_project/lib/python3.9/site-packages/fsspec/spec.py:1310\u001b[0m, in \u001b[0;36mAbstractFileSystem.open\u001b[0;34m(self, path, mode, block_size, cache_options, compression, **kwargs)\u001b[0m\n\u001b[1;32m   1308\u001b[0m \u001b[38;5;28;01melse\u001b[39;00m:\n\u001b[1;32m   1309\u001b[0m     ac \u001b[38;5;241m=\u001b[39m kwargs\u001b[38;5;241m.\u001b[39mpop(\u001b[38;5;124m\"\u001b[39m\u001b[38;5;124mautocommit\u001b[39m\u001b[38;5;124m\"\u001b[39m, \u001b[38;5;129;01mnot\u001b[39;00m \u001b[38;5;28mself\u001b[39m\u001b[38;5;241m.\u001b[39m_intrans)\n\u001b[0;32m-> 1310\u001b[0m     f \u001b[38;5;241m=\u001b[39m \u001b[38;5;28;43mself\u001b[39;49m\u001b[38;5;241;43m.\u001b[39;49m\u001b[43m_open\u001b[49m\u001b[43m(\u001b[49m\n\u001b[1;32m   1311\u001b[0m \u001b[43m        \u001b[49m\u001b[43mpath\u001b[49m\u001b[43m,\u001b[49m\n\u001b[1;32m   1312\u001b[0m \u001b[43m        \u001b[49m\u001b[43mmode\u001b[49m\u001b[38;5;241;43m=\u001b[39;49m\u001b[43mmode\u001b[49m\u001b[43m,\u001b[49m\n\u001b[1;32m   1313\u001b[0m \u001b[43m        \u001b[49m\u001b[43mblock_size\u001b[49m\u001b[38;5;241;43m=\u001b[39;49m\u001b[43mblock_size\u001b[49m\u001b[43m,\u001b[49m\n\u001b[1;32m   1314\u001b[0m \u001b[43m        \u001b[49m\u001b[43mautocommit\u001b[49m\u001b[38;5;241;43m=\u001b[39;49m\u001b[43mac\u001b[49m\u001b[43m,\u001b[49m\n\u001b[1;32m   1315\u001b[0m \u001b[43m        \u001b[49m\u001b[43mcache_options\u001b[49m\u001b[38;5;241;43m=\u001b[39;49m\u001b[43mcache_options\u001b[49m\u001b[43m,\u001b[49m\n\u001b[1;32m   1316\u001b[0m \u001b[43m        \u001b[49m\u001b[38;5;241;43m*\u001b[39;49m\u001b[38;5;241;43m*\u001b[39;49m\u001b[43mkwargs\u001b[49m\u001b[43m,\u001b[49m\n\u001b[1;32m   1317\u001b[0m \u001b[43m    \u001b[49m\u001b[43m)\u001b[49m\n\u001b[1;32m   1318\u001b[0m     \u001b[38;5;28;01mif\u001b[39;00m compression \u001b[38;5;129;01mis\u001b[39;00m \u001b[38;5;129;01mnot\u001b[39;00m \u001b[38;5;28;01mNone\u001b[39;00m:\n\u001b[1;32m   1319\u001b[0m         \u001b[38;5;28;01mfrom\u001b[39;00m\u001b[38;5;250m \u001b[39m\u001b[38;5;21;01mfsspec\u001b[39;00m\u001b[38;5;21;01m.\u001b[39;00m\u001b[38;5;21;01mcompression\u001b[39;00m\u001b[38;5;250m \u001b[39m\u001b[38;5;28;01mimport\u001b[39;00m compr\n",
      "File \u001b[0;32m~/anaconda3/envs/j_project/lib/python3.9/site-packages/fsspec/implementations/local.py:200\u001b[0m, in \u001b[0;36mLocalFileSystem._open\u001b[0;34m(self, path, mode, block_size, **kwargs)\u001b[0m\n\u001b[1;32m    198\u001b[0m \u001b[38;5;28;01mif\u001b[39;00m \u001b[38;5;28mself\u001b[39m\u001b[38;5;241m.\u001b[39mauto_mkdir \u001b[38;5;129;01mand\u001b[39;00m \u001b[38;5;124m\"\u001b[39m\u001b[38;5;124mw\u001b[39m\u001b[38;5;124m\"\u001b[39m \u001b[38;5;129;01min\u001b[39;00m mode:\n\u001b[1;32m    199\u001b[0m     \u001b[38;5;28mself\u001b[39m\u001b[38;5;241m.\u001b[39mmakedirs(\u001b[38;5;28mself\u001b[39m\u001b[38;5;241m.\u001b[39m_parent(path), exist_ok\u001b[38;5;241m=\u001b[39m\u001b[38;5;28;01mTrue\u001b[39;00m)\n\u001b[0;32m--> 200\u001b[0m \u001b[38;5;28;01mreturn\u001b[39;00m \u001b[43mLocalFileOpener\u001b[49m\u001b[43m(\u001b[49m\u001b[43mpath\u001b[49m\u001b[43m,\u001b[49m\u001b[43m \u001b[49m\u001b[43mmode\u001b[49m\u001b[43m,\u001b[49m\u001b[43m \u001b[49m\u001b[43mfs\u001b[49m\u001b[38;5;241;43m=\u001b[39;49m\u001b[38;5;28;43mself\u001b[39;49m\u001b[43m,\u001b[49m\u001b[43m \u001b[49m\u001b[38;5;241;43m*\u001b[39;49m\u001b[38;5;241;43m*\u001b[39;49m\u001b[43mkwargs\u001b[49m\u001b[43m)\u001b[49m\n",
      "File \u001b[0;32m~/anaconda3/envs/j_project/lib/python3.9/site-packages/fsspec/implementations/local.py:364\u001b[0m, in \u001b[0;36mLocalFileOpener.__init__\u001b[0;34m(self, path, mode, autocommit, fs, compression, **kwargs)\u001b[0m\n\u001b[1;32m    362\u001b[0m \u001b[38;5;28mself\u001b[39m\u001b[38;5;241m.\u001b[39mcompression \u001b[38;5;241m=\u001b[39m get_compression(path, compression)\n\u001b[1;32m    363\u001b[0m \u001b[38;5;28mself\u001b[39m\u001b[38;5;241m.\u001b[39mblocksize \u001b[38;5;241m=\u001b[39m io\u001b[38;5;241m.\u001b[39mDEFAULT_BUFFER_SIZE\n\u001b[0;32m--> 364\u001b[0m \u001b[38;5;28;43mself\u001b[39;49m\u001b[38;5;241;43m.\u001b[39;49m\u001b[43m_open\u001b[49m\u001b[43m(\u001b[49m\u001b[43m)\u001b[49m\n",
      "File \u001b[0;32m~/anaconda3/envs/j_project/lib/python3.9/site-packages/fsspec/implementations/local.py:369\u001b[0m, in \u001b[0;36mLocalFileOpener._open\u001b[0;34m(self)\u001b[0m\n\u001b[1;32m    367\u001b[0m \u001b[38;5;28;01mif\u001b[39;00m \u001b[38;5;28mself\u001b[39m\u001b[38;5;241m.\u001b[39mf \u001b[38;5;129;01mis\u001b[39;00m \u001b[38;5;28;01mNone\u001b[39;00m \u001b[38;5;129;01mor\u001b[39;00m \u001b[38;5;28mself\u001b[39m\u001b[38;5;241m.\u001b[39mf\u001b[38;5;241m.\u001b[39mclosed:\n\u001b[1;32m    368\u001b[0m     \u001b[38;5;28;01mif\u001b[39;00m \u001b[38;5;28mself\u001b[39m\u001b[38;5;241m.\u001b[39mautocommit \u001b[38;5;129;01mor\u001b[39;00m \u001b[38;5;124m\"\u001b[39m\u001b[38;5;124mw\u001b[39m\u001b[38;5;124m\"\u001b[39m \u001b[38;5;129;01mnot\u001b[39;00m \u001b[38;5;129;01min\u001b[39;00m \u001b[38;5;28mself\u001b[39m\u001b[38;5;241m.\u001b[39mmode:\n\u001b[0;32m--> 369\u001b[0m         \u001b[38;5;28mself\u001b[39m\u001b[38;5;241m.\u001b[39mf \u001b[38;5;241m=\u001b[39m \u001b[38;5;28;43mopen\u001b[39;49m\u001b[43m(\u001b[49m\u001b[38;5;28;43mself\u001b[39;49m\u001b[38;5;241;43m.\u001b[39;49m\u001b[43mpath\u001b[49m\u001b[43m,\u001b[49m\u001b[43m \u001b[49m\u001b[43mmode\u001b[49m\u001b[38;5;241;43m=\u001b[39;49m\u001b[38;5;28;43mself\u001b[39;49m\u001b[38;5;241;43m.\u001b[39;49m\u001b[43mmode\u001b[49m\u001b[43m)\u001b[49m\n\u001b[1;32m    370\u001b[0m         \u001b[38;5;28;01mif\u001b[39;00m \u001b[38;5;28mself\u001b[39m\u001b[38;5;241m.\u001b[39mcompression:\n\u001b[1;32m    371\u001b[0m             compress \u001b[38;5;241m=\u001b[39m compr[\u001b[38;5;28mself\u001b[39m\u001b[38;5;241m.\u001b[39mcompression]\n",
      "\u001b[0;31mFileNotFoundError\u001b[0m: [Errno 2] No such file or directory: '/home/aix7101/.cache/huggingface/datasets/wiki_dpr/psgs_w100.nq.compressed/0.0.0/66fd9b80f51375c02cd9010050e781ed3e8f759e868f690c31b2686a7a0eeb5c/psgs_w100.nq.IVF4096_HNSW128_PQ128-IP-train.faiss'"
     ]
    }
   ],
   "source": [
    "from datasets import load_dataset\n",
    "import pandas as pd\n",
    "\n",
    "# 1. QA 데이터 (question, answer) → nq_open\n",
    "nq_dataset = load_dataset(\"nq_open\", split=\"train\")\n",
    "\n",
    "qa_data = []\n",
    "for item in nq_dataset:\n",
    "    question = item[\"question\"]\n",
    "    # answer는 정답 후보 리스트 중 첫 번째 사용\n",
    "    answer = item[\"answer\"][0] if item[\"answer\"] else \"\"\n",
    "    qa_data.append({\n",
    "        \"question\": question,\n",
    "        \"answer\": answer\n",
    "    })\n",
    "\n",
    "qa_df = pd.DataFrame(qa_data)\n",
    "print(\"✅ Loaded QA pairs:\", len(qa_df))\n",
    "print(qa_df.head())\n",
    "\n",
    "# 2. Corpus 데이터 (doc_id, text) → DPR Wikipedia passages\n",
    "corpus = load_dataset(\"wiki_dpr\", \"psgs_w100.nq.compressed\", split=\"train\")\n",
    "\n",
    "corpus_df = pd.DataFrame({\n",
    "    \"doc_id\": corpus[\"id\"],\n",
    "    \"text\": corpus[\"text\"]\n",
    "})\n",
    "print(\"✅ Loaded corpus passages:\", len(corpus_df))\n",
    "print(corpus_df.head())"
   ]
  },
  {
   "cell_type": "code",
   "execution_count": 11,
   "metadata": {},
   "outputs": [
    {
     "name": "stdout",
     "output_type": "stream",
     "text": [
      "{'id': '1', 'text': 'Aaron Aaron ( or ; \"Ahärôn\") is a prophet, high priest, and the brother of Moses in the Abrahamic religions. Knowledge of Aaron, along with his brother Moses, comes exclusively from religious texts, such as the Bible and Quran. The Hebrew Bible relates that, unlike Moses, who grew up in the Egyptian royal court, Aaron and his elder sister Miriam remained with their kinsmen in the eastern border-land of Egypt (Goshen). When Moses first confronted the Egyptian king about the Israelites, Aaron served as his brother\\'s spokesman (\"prophet\") to the Pharaoh. Part of the Law (Torah) that Moses received from', 'title': 'Aaron', 'embeddings': [0.013342111371457577, 0.582173764705658, -0.31309744715690613, -0.6991612911224365, -0.5583199858665466, 0.5187504887580872, 0.7152731418609619, -0.08567414432764053, -0.24895088374614716, -0.4495537281036377, -0.643000066280365, 0.11746902763843536, -0.22123917937278748, 0.30100083351135254, 0.08902842551469803, 0.018262844532728195, 0.35032016038894653, 0.5387764573097229, -0.7160236835479736, 0.27768489718437195, -0.07402290403842926, 0.05736348405480385, -0.2623903751373291, 0.11998274177312851, 0.42047083377838135, 0.32202771306037903, 0.4316750466823578, -0.3319248855113983, -0.3958595395088196, -0.29490378499031067, 0.1877806931734085, -0.100398488342762, 0.5196011066436768, -0.20901942253112793, -0.21604545414447784, -0.17848671972751617, -0.11988848447799683, 0.08588268607854843, 0.31618618965148926, 0.31577184796333313, -0.057537250220775604, -0.5773798227310181, 0.25274738669395447, -0.03731808438897133, -0.4586816728115082, -0.2606494724750519, -0.7278411388397217, 0.8470156192779541, -0.024892883375287056, 0.12136458605527878, -0.4922543168067932, -0.05716506764292717, -0.5419178009033203, 0.6617814302444458, -0.01026879157871008, -0.08240453153848648, -0.3834538757801056, -0.0217374786734581, 0.25595659017562866, -0.32065433263778687, 0.3364619016647339, 0.2793622612953186, 0.9436274170875549, 0.07419943809509277, -0.028591636568307877, 0.36722615361213684, -0.35942503809928894, 0.08018945157527924, -0.6012433767318726, 0.18680493533611298, 0.10338036715984344, -0.24818070232868195, -0.9503740668296814, -0.037816066294908524, 0.04864095151424408, -0.38971173763275146, 0.1560625433921814, -0.016165366396307945, 0.03465748578310013, 0.35003718733787537, -0.5292726755142212, -0.12466200441122055, 0.29246458411216736, 0.19088231027126312, 0.05515093356370926, 0.33809250593185425, 0.16220323741436005, 0.16643284261226654, -0.08910343796014786, -0.8794567584991455, -0.20117390155792236, 0.23538599908351898, 0.05153215304017067, -0.028052087873220444, -0.4111497402191162, 0.2003425806760788, 0.3162536323070526, -0.184242844581604, -0.10369937121868134, -0.4574664831161499, 0.1168856993317604, 0.10409945249557495, 0.5903887748718262, -0.10240547358989716, -0.13237743079662323, -0.14929600059986115, 0.19012916088104248, -0.32198792695999146, -0.2629361152648926, 0.2668221592903137, -0.23492242395877838, 0.5787959694862366, 0.16600461304187775, -0.024004686623811722, -0.06353788077831268, 0.39425766468048096, -0.4836723506450653, -1.0324077606201172, -0.3863924443721771, -0.06947479397058487, -0.06976303458213806, 0.6292197108268738, 0.4815850555896759, 0.8333263993263245, -0.1614970713853836, -0.5836285352706909, 0.04946994036436081, 0.44299933314323425, -0.5966780781745911, 0.009543153457343578, 0.09636517614126205, 0.06079412251710892, 0.45286867022514343, -0.05853470414876938, -0.5595552921295166, -0.32627490162849426, -0.321654349565506, 0.22931836545467377, -0.015266075730323792, -0.155192032456398, -1.099725365638733, -0.4443606734275818, 0.12090086936950684, -0.11218881607055664, 0.08053071051836014, -0.24572324752807617, -0.029322126880288124, -0.25510692596435547, -0.278866708278656, 0.16946637630462646, -0.28219300508499146, 0.1638929396867752, 0.09862808138132095, -0.48473629355430603, -0.18139319121837616, 0.35590529441833496, 0.18584416806697845, 0.22782593965530396, 0.11231634020805359, 0.14086107909679413, 0.16855865716934204, 0.16393591463565826, 0.063820980489254, -0.3430526554584503, 0.16281935572624207, 0.16581737995147705, 0.33747172355651855, -0.41819822788238525, 0.0025368088390678167, -0.5437764525413513, -0.16048917174339294, -0.27151182293891907, 0.2485852986574173, -0.5246210098266602, -0.10285931825637817, 0.02890552580356598, 0.4926091730594635, -0.17282643914222717, 0.12301001697778702, -0.48179197311401367, -0.7173861265182495, 0.03650764748454094, -0.5600326657295227, -0.577528178691864, 0.09422600269317627, 0.25925469398498535, -0.2989250421524048, 0.15679173171520233, -0.13336147367954254, 0.09616518020629883, -0.5716033577919006, -0.37886980175971985, -0.1733996421098709, -0.047748956829309464, 0.3439715504646301, -0.6006388068199158, 0.015615168027579784, 0.6865774989128113, 0.2951256036758423, 0.44723591208457947, -0.5507193207740784, 0.05156802386045456, -0.011735874228179455, 0.38653671741485596, -0.4721370339393616, 0.48308005928993225, -0.5819752216339111, 0.5008648633956909, 0.545811653137207, 0.15721268951892853, 0.4570438265800476, -0.6446462869644165, 0.008594613522291183, -0.22547177970409393, 0.08848125487565994, 0.45527178049087524, 0.11119621247053146, -0.45049574971199036, 0.059182897210121155, 0.15203087031841278, 0.596472978591919, -0.2697761058807373, -0.1555441915988922, 0.24279746413230896, -0.26650312542915344, 0.14212872087955475, 0.3272002041339874, 0.12318886816501617, -0.20520636439323425, -0.24159811437129974, 0.2878652811050415, -0.16519775986671448, 0.6804537773132324, -0.14532572031021118, -0.3919063210487366, -0.18149390816688538, 0.3687795400619507, -0.17275765538215637, 0.6418197751045227, -0.027582824230194092, 0.3877091705799103, 0.2563461363315582, -0.3286064565181732, -0.38848012685775757, 0.6039966940879822, 0.1983191817998886, -0.2691623270511627, -0.24335584044456482, -0.4288327395915985, 0.793018639087677, -0.4474162459373474, -0.05150119587779045, 0.5939141511917114, -0.47305309772491455, 0.637814462184906, -0.47850024700164795, -0.030141232535243034, 0.23852652311325073, 0.8140543103218079, 0.19942307472229004, -0.0010131633607670665, 0.576574444770813, -0.5792076587677002, -0.3121621608734131, 0.003611992811784148, -0.0035351801197975874, 0.09528223425149918, 0.25566601753234863, 0.29840555787086487, 0.3033490478992462, 1.0012692213058472, -0.1723470836877823, -0.3795674741268158, 0.022254690527915955, 0.32964348793029785, -0.5092184543609619, 0.4767880439758301, 0.43636539578437805, 0.5528505444526672, -0.5531790256500244, -0.12880346179008484, 0.22618228197097778, -0.3151434361934662, -0.03973354026675224, -0.2652219831943512, -0.4793930947780609, -0.2868035137653351, -0.905595064163208, 0.10350733995437622, 0.11173075437545776, 0.394121378660202, 0.7869462370872498, 0.6168612837791443, -0.07899240404367447, 0.34136301279067993, 0.5755362510681152, 0.28675124049186707, -0.2225918173789978, 0.21988601982593536, -0.2786274552345276, -0.45123475790023804, -0.17960773408412933, -0.21113760769367218, 0.457698792219162, 0.5189108848571777, 0.4346103370189667, -0.22238492965698242, 0.6370369791984558, -5.745935440063477, -0.4969028830528259, -0.3840221166610718, 0.022046135738492012, 0.6478630304336548, -0.137510746717453, 0.6751518845558167, -0.3845255672931671, 0.6922675967216492, 0.30573010444641113, 0.34625381231307983, -0.2520020604133606, 0.2816044092178345, 0.14808008074760437, 0.09274668991565704, 0.456719309091568, 0.3370796740055084, -0.6463026404380798, 0.20837996900081635, 0.025062687695026398, 0.16107310354709625, -0.5261400938034058, -0.9588971734046936, 0.7716624140739441, 0.007130398415029049, -0.05409559607505798, -0.5882000923156738, 0.03135319799184799, -0.7391355633735657, -0.19058559834957123, -0.20751623809337616, -0.3089848756790161, -0.13430340588092804, -0.39386796951293945, -0.20612117648124695, -0.3507562279701233, 0.4656156003475189, -0.15378302335739136, 0.08091875910758972, -0.22894199192523956, -0.3663587272167206, -0.31257665157318115, -0.2496020495891571, -0.04917147010564804, 0.14395107328891754, -0.18363872170448303, -0.8159858584403992, -0.07167480140924454, -0.07025245577096939, 0.23874300718307495, -0.29845693707466125, 0.18639935553073883, 0.06178617477416992, -0.20091980695724487, 0.26853713393211365, -0.046518705785274506, 0.32080182433128357, 0.40860798954963684, -0.13383924961090088, 0.0849938839673996, 0.25926926732063293, -0.5862594842910767, -0.16909103095531464, -0.08061639219522476, 0.4513208866119385, -0.128934845328331, 0.14394256472587585, -0.5972687005996704, 0.1929595023393631, -0.12097825109958649, -0.7723067998886108, 0.2681928277015686, 0.09970526397228241, -0.9875441193580627, 0.2791946530342102, -0.18674223124980927, 0.18502698838710785, 0.4536034166812897, -0.4841155707836151, -0.5014390349388123, -0.42376574873924255, -0.62204509973526, 0.6096557378768921, 0.016337107867002487, 0.2733354866504669, 0.4336029291152954, 0.04663529619574547, -0.3526301383972168, 0.22757884860038757, 0.4601760804653168, 0.8722789883613586, -0.4028926491737366, 0.2983832359313965, 0.3099161386489868, 0.006797840818762779, 0.5444064736366272, -0.5126181244850159, 0.5441772937774658, 0.8038768172264099, 0.3460986018180847, -0.2168547362089157, 0.002366922330111265, 0.05954704433679581, -0.10748684406280518, 0.21137787401676178, 0.4554608166217804, -0.43163007497787476, 0.25133755803108215, 0.30361658334732056, 0.06174817681312561, -0.24107496440410614, 0.31094011664390564, -0.33090052008628845, -0.09494759887456894, 0.6232355237007141, 0.20254461467266083, 0.35264331102371216, 1.0044695138931274, 0.8436576128005981, 1.1823155879974365, -0.5941954851150513, 0.30281803011894226, -0.3799954652786255, -0.11119156330823898, -0.08680906891822815, -0.34019094705581665, -0.07897806912660599, -0.08845642954111099, 0.4635826647281647, -0.06214538589119911, 0.7164416909217834, 0.06339499354362488, -0.16835464537143707, 0.11125967651605606, 0.12001282721757889, -0.5300414562225342, -0.057382844388484955, -0.8737900257110596, -0.1722751259803772, -0.057661570608615875, -0.9281012415885925, -0.0411529578268528, 0.20299847424030304, 0.4360838830471039, 0.10082262009382248, -0.24507708847522736, -0.3387431800365448, 0.03348888084292412, -0.27641600370407104, 0.5392748713493347, 0.4797119200229645, 0.01551057118922472, 0.9765687584877014, 0.29106953740119934, -0.31877174973487854, 0.07055041939020157, -0.2910116910934448, 0.4656400978565216, -0.6375656127929688, 0.2486547976732254, -0.31931719183921814, -0.8066365122795105, -0.5733237862586975, -0.0494222529232502, 0.23460964858531952, 0.26430708169937134, -0.10929836332798004, -0.4255754053592682, 0.3565710186958313, 0.3791630268096924, 0.15731991827487946, -0.24865180253982544, -0.3653840124607086, -0.3432982861995697, 0.729200541973114, 0.3671967685222626, -0.13996000587940216, 0.51570725440979, -0.16123220324516296, -0.3300400376319885, -0.21838270127773285, 0.07763613760471344, -0.43250131607055664, -0.23851189017295837, 0.3580610454082489, 0.08029165863990784, -0.33338966965675354, -1.03665292263031, -0.6987199187278748, 0.02439035288989544, 0.2788645923137665, -0.06608114391565323, -0.44936057925224304, 0.546510636806488, -0.1296209990978241, -0.4272401034832001, 0.47409582138061523, -0.4952409565448761, 0.23164556920528412, -0.22899983823299408, -0.09274420142173767, 0.15485498309135437, -0.5276297926902771, 0.026999076828360558, -0.12746402621269226, -0.5999284386634827, 0.3046010434627533, 0.3349684774875641, 0.14781221747398376, -0.10549195110797882, 0.07820522040128708, -0.372130811214447, -0.593668520450592, 0.4301963448524475, 0.18750408291816711, -0.20319558680057526, 0.3408954441547394, -0.14943164587020874, 0.16451559960842133, -0.17478689551353455, 0.2591470777988434, -0.48879995942115784, 0.30594566464424133, 0.407215416431427, 0.4833449721336365, 0.4775369465351105, 0.09993761777877808, -0.22387194633483887, 0.4008619487285614, -0.3312329649925232, 0.32568955421447754, 0.6423519849777222, 0.15374714136123657, 0.7465161085128784, -0.7500524520874023, -0.15752257406711578, 0.28506720066070557, 0.483536034822464, -0.19415827095508575, 0.397411584854126, 0.3059113621711731, 0.24965520203113556, -0.039587799459695816, -0.42057734727859497, 0.669467031955719, -0.04279704764485359, -0.3522455096244812, -0.5816063284873962, -0.006955984514206648, -0.2486751675605774, 0.48806583881378174, -0.13502894341945648, -0.10889037698507309, -0.16293615102767944, 0.8560498356819153, -0.1609228402376175, -0.14554370939731598, -0.514249324798584, -0.36700940132141113, -0.33139559626579285, 0.05600138008594513, -0.40672966837882996, -0.14108705520629883, -0.3056793808937073, -0.13683877885341644, -0.20228971540927887, -0.23225994408130646, -0.3287922143936157, 0.07010006904602051, -0.4260731637477875, -0.7256983518600464, -0.8079238533973694, 0.3285459280014038, 0.4343706965446472, -0.33967113494873047, 0.4931037127971649, -0.6669278740882874, 0.1280277520418167, -0.12090429663658142, 0.1341475248336792, -0.9275414943695068, -0.2043219804763794, -0.031693123281002045, 0.2993864119052887, 0.4125460088253021, -0.2647762596607208, -0.17118121683597565, 0.10917486995458603, 0.340258926153183, 0.008467217907309532, -0.5836611390113831, 0.4534720182418823, -0.18661309778690338, 0.22191967070102692, -0.46791550517082214, -0.1673247516155243, 0.6950961351394653, 0.6230984926223755, -0.06833136081695557, -0.2921275794506073, 0.15839208662509918, 0.31407544016838074, 0.5224513411521912, 0.4880180358886719, -0.2806287705898285, 0.5517997741699219, 0.11446849256753922, -0.09426851570606232, -0.5370336174964905, 0.3783377707004547, 0.26005545258522034, -0.12884382903575897, 0.6570649743080139, -0.010207049548625946, -0.667052686214447, 0.016771147027611732, 0.7395182251930237, 0.028792696073651314, -0.17188698053359985, 0.005625546909868717, 0.16337908804416656, -0.09353276342153549, 0.21933451294898987, 0.12842266261577606, 0.009508350864052773, 0.5731686353683472, 0.513626217842102, 0.1574011594057083, -0.0928046926856041, 0.06037212163209915, 0.34846699237823486, 0.2959064245223999, -0.5177446007728577, -0.1623641550540924, 0.20998820662498474, 0.19181598722934723, 0.2055983692407608, -0.1721590906381607, 0.15389899909496307, 0.7246823906898499, 0.09028657525777817, 0.8275163173675537, -0.7378642559051514, 0.19947899878025055, -0.027157744392752647, 0.6812571883201599, 0.24400798976421356, -0.31869834661483765, 0.004607081413269043, 0.8053483366966248, -0.2750285267829895, -0.012644030153751373, 0.32843026518821716, -0.41769587993621826, 0.10478366911411285, 0.9217999577522278, 0.5367670655250549, 0.19652174413204193, -0.3339986503124237, 0.120143823325634, 0.18377183377742767, -0.07194815576076508, 0.5458688735961914, -0.1967276632785797, -0.2981669008731842, -0.07121703773736954, 0.17999732494354248, -1.0598938465118408, -0.33158645033836365, -0.11468132585287094, 0.025547195225954056, 0.020341170951724052, -0.8446840047836304, -0.23143057525157928, 0.4299076795578003, 0.1395767480134964, 0.9780437350273132, -0.06875360757112503, -0.19017060101032257, 0.5967233180999756, 0.2108098268508911, -0.3805564343929291, -0.20678094029426575, -0.9000175595283508, -0.49099963903427124, 0.5177686810493469, -0.03827724978327751, -0.2201634645462036, -1.499563217163086, 0.23444972932338715, 0.15166305005550385, -0.31187883019447327, 0.4112609624862671, 0.5527058243751526, 0.08738730847835541, 0.1013394445180893, -0.44980981945991516, 0.7611082196235657, -0.28494423627853394, 0.2644638121128082, 0.040533315390348434, 0.27798736095428467, 0.2967148721218109, -0.222095787525177, 0.03268064185976982, 0.09654885530471802, -0.38599273562431335, -1.0435175895690918, -0.7873338460922241, 0.05377493426203728, 0.36096814274787903, -0.144956573843956, 0.2724911868572235, -0.5067102909088135, -0.23126086592674255, -0.4167267084121704, 0.333368182182312, -0.5543072819709778, 0.2413502335548401, -0.1094605103135109, 0.0023073970805853605, -0.2537267804145813, -0.5412203073501587, 0.6002154350280762, -0.3583946228027344, 0.12887059152126312, 0.41921257972717285, -0.04532704874873161, -0.5824840664863586, 0.4221176207065582, 0.46539178490638733, -0.7833795547485352, -0.40958112478256226, -0.5585734248161316, -0.13919009268283844, -0.8180659413337708, 0.3868069052696228, 0.8758425116539001, 0.5391188859939575, -0.764029860496521, -0.15418075025081635, 0.09660996496677399, -0.16624252498149872, 0.16759417951107025, -0.5543164610862732, 0.5374137163162231, -0.6768856644630432, -0.5294336676597595, -0.1276760995388031, 0.8119913339614868, 0.321498304605484, 0.09892559796571732, -0.017379622906446457, 0.03613365441560745, 0.44289925694465637, -0.2320089042186737, 0.3312029540538788, -0.5385938286781311, 0.8093984127044678, -0.4741983711719513]}\n"
     ]
    }
   ],
   "source": [
    "from datasets import load_dataset\n",
    "\n",
    "# stream=True를 추가하면 메모리에서만 로드하며 인덱스를 시도하지 않음\n",
    "corpus = load_dataset(\n",
    "    \"wiki_dpr\",\n",
    "    \"psgs_w100.nq.compressed\",\n",
    "    split=\"train\",\n",
    "    streaming=True  # 핵심\n",
    ")\n",
    "\n",
    "# passage 뽑기 예시\n",
    "first_passage = next(iter(corpus))\n",
    "print(first_passage)"
   ]
  },
  {
   "cell_type": "code",
   "execution_count": 15,
   "metadata": {},
   "outputs": [],
   "source": [
    "import json\n",
    "\n",
    "# IterableDataset을 리스트로 변환 (주의: 메모리에 다 올라감)\n",
    "corpus_list = list(corpus)\n",
    "\n",
    "# 필요 없는 'embeddings' 필드 제거\n",
    "for item in corpus_list:\n",
    "    item.pop(\"embeddings\", None)  # 없을 수도 있으므로 안전하게 pop\n",
    "\n",
    "# JSON으로 저장\n",
    "with open(\"/mnt/aix7101/jeong/aix_project/dataset/nq_rag_corpus.json\", \"w\", encoding=\"utf-8\") as f:\n",
    "    json.dump(corpus_list, f, ensure_ascii=False, indent=2)\n",
    "\n",
    "print(\"✅ embeddings 제거 후 JSON 저장 완료\")"
   ]
  },
  {
   "cell_type": "code",
   "execution_count": null,
   "metadata": {},
   "outputs": [
    {
     "name": "stdout",
     "output_type": "stream",
     "text": [
      "✅ JSON 파일 저장 완료:\n"
     ]
    }
   ],
   "source": [
    "# # 1. corpus 저장 (Retrieval 문서들)\n",
    "# corpus_records = corpus_df.to_dict(orient=\"records\")\n",
    "# with open(\"dataset/nq_rag_corpus.json\", \"w\", encoding=\"utf-8\") as f:\n",
    "#     json.dump(corpus_records, f, ensure_ascii=False, indent=2)\n",
    "\n",
    "# # # 2. QA 쌍 저장 (질문-정답-문서 매핑)\n",
    "# # qa_records = qa_df.to_dict(orient=\"records\")\n",
    "# # with open(\"dataset/nq_rag_qa_pairs.json\", \"w\", encoding=\"utf-8\") as f:\n",
    "# #     json.dump(qa_records, f, ensure_ascii=False, indent=2)\n",
    "\n",
    "# print(\"✅ JSON 파일 저장 완료:\")"
   ]
  },
  {
   "cell_type": "code",
   "execution_count": null,
   "metadata": {},
   "outputs": [],
   "source": [
    "import json\n",
    "import pandas as pd\n",
    "\n",
    "# 1. Corpus 로드\n",
    "with open(\"/mnt/aix7101/jeong/aix_project/dataset/nq_rag_corpus.json\", \"r\", encoding=\"utf-8\") as f:\n",
    "    corpus_records = json.load(f)\n",
    "corpus_df = pd.DataFrame(corpus_records)\n",
    "\n",
    "# 2. QA 쌍 로드\n",
    "with open(\"dataset/nq_rag_qa_pairs.json\", \"r\", encoding=\"utf-8\") as f:\n",
    "    qa_records = json.load(f)\n",
    "qa_pairs = pd.DataFrame(qa_records)\n",
    "\n",
    "print(\"📂 corpus_df shape:\", corpus_df.shape)\n",
    "print(\"📂 qa_pairs shape:\", qa_pairs.shape)"
   ]
  },
  {
   "cell_type": "markdown",
   "metadata": {},
   "source": [
    "## Save embedded vector"
   ]
  },
  {
   "cell_type": "code",
   "execution_count": null,
   "metadata": {},
   "outputs": [
    {
     "name": "stderr",
     "output_type": "stream",
     "text": [
      "The tokenizer class you load from this checkpoint is not the same type as the class this function is called from. It may result in unexpected tokenization. \n",
      "The tokenizer class you load from this checkpoint is 'DPRQuestionEncoderTokenizer'. \n",
      "The class this function is called from is 'DPRContextEncoderTokenizer'.\n",
      "Some weights of the model checkpoint at facebook/dpr-ctx_encoder-multiset-base were not used when initializing DPRContextEncoder: ['ctx_encoder.bert_model.pooler.dense.bias', 'ctx_encoder.bert_model.pooler.dense.weight']\n",
      "- This IS expected if you are initializing DPRContextEncoder from the checkpoint of a model trained on another task or with another architecture (e.g. initializing a BertForSequenceClassification model from a BertForPreTraining model).\n",
      "- This IS NOT expected if you are initializing DPRContextEncoder from the checkpoint of a model that you expect to be exactly identical (initializing a BertForSequenceClassification model from a BertForSequenceClassification model).\n",
      "Some weights of the model checkpoint at facebook/dpr-question_encoder-multiset-base were not used when initializing DPRQuestionEncoder: ['question_encoder.bert_model.pooler.dense.bias', 'question_encoder.bert_model.pooler.dense.weight']\n",
      "- This IS expected if you are initializing DPRQuestionEncoder from the checkpoint of a model trained on another task or with another architecture (e.g. initializing a BertForSequenceClassification model from a BertForPreTraining model).\n",
      "- This IS NOT expected if you are initializing DPRQuestionEncoder from the checkpoint of a model that you expect to be exactly identical (initializing a BertForSequenceClassification model from a BertForSequenceClassification model).\n"
     ]
    }
   ],
   "source": [
    "\n",
    "# 3. Load DPR model and tokenizer (use multi-qa)\n",
    "ctx_tokenizer = DPRContextEncoderTokenizer.from_pretrained(\"facebook/dpr-ctx_encoder-multiset-base\")\n",
    "ctx_encoder = DPRContextEncoder.from_pretrained(\"facebook/dpr-ctx_encoder-multiset-base\")\n",
    "\n",
    "q_tokenizer = DPRQuestionEncoderTokenizer.from_pretrained(\"facebook/dpr-question_encoder-multiset-base\")\n",
    "q_encoder = DPRQuestionEncoder.from_pretrained(\"facebook/dpr-question_encoder-multiset-base\")\n"
   ]
  },
  {
   "cell_type": "code",
   "execution_count": null,
   "metadata": {},
   "outputs": [
    {
     "data": {
      "text/plain": [
       "DPRQuestionEncoder(\n",
       "  (question_encoder): DPREncoder(\n",
       "    (bert_model): BertModel(\n",
       "      (embeddings): BertEmbeddings(\n",
       "        (word_embeddings): Embedding(30522, 768, padding_idx=0)\n",
       "        (position_embeddings): Embedding(512, 768)\n",
       "        (token_type_embeddings): Embedding(2, 768)\n",
       "        (LayerNorm): LayerNorm((768,), eps=1e-12, elementwise_affine=True)\n",
       "        (dropout): Dropout(p=0.1, inplace=False)\n",
       "      )\n",
       "      (encoder): BertEncoder(\n",
       "        (layer): ModuleList(\n",
       "          (0-11): 12 x BertLayer(\n",
       "            (attention): BertAttention(\n",
       "              (self): BertSdpaSelfAttention(\n",
       "                (query): Linear(in_features=768, out_features=768, bias=True)\n",
       "                (key): Linear(in_features=768, out_features=768, bias=True)\n",
       "                (value): Linear(in_features=768, out_features=768, bias=True)\n",
       "                (dropout): Dropout(p=0.1, inplace=False)\n",
       "              )\n",
       "              (output): BertSelfOutput(\n",
       "                (dense): Linear(in_features=768, out_features=768, bias=True)\n",
       "                (LayerNorm): LayerNorm((768,), eps=1e-12, elementwise_affine=True)\n",
       "                (dropout): Dropout(p=0.1, inplace=False)\n",
       "              )\n",
       "            )\n",
       "            (intermediate): BertIntermediate(\n",
       "              (dense): Linear(in_features=768, out_features=3072, bias=True)\n",
       "              (intermediate_act_fn): GELUActivation()\n",
       "            )\n",
       "            (output): BertOutput(\n",
       "              (dense): Linear(in_features=3072, out_features=768, bias=True)\n",
       "              (LayerNorm): LayerNorm((768,), eps=1e-12, elementwise_affine=True)\n",
       "              (dropout): Dropout(p=0.1, inplace=False)\n",
       "            )\n",
       "          )\n",
       "        )\n",
       "      )\n",
       "    )\n",
       "  )\n",
       ")"
      ]
     },
     "execution_count": 48,
     "metadata": {},
     "output_type": "execute_result"
    }
   ],
   "source": [
    "ctx_encoder.eval()\n",
    "q_encoder.eval()\n",
    "\n",
    "device = torch.device(\"cuda\" if torch.cuda.is_available() else \"cpu\")\n",
    "ctx_encoder.to(device)\n",
    "q_encoder.to(device)\n"
   ]
  },
  {
   "cell_type": "code",
   "execution_count": null,
   "metadata": {},
   "outputs": [
    {
     "name": "stderr",
     "output_type": "stream",
     "text": [
      "Encoding contexts: 100%|██████████| 591/591 [01:54<00:00,  5.14it/s]\n"
     ]
    }
   ],
   "source": [
    "batch_size = 32\n",
    "ctx_embeddings = []\n",
    "\n",
    "for i in tqdm(range(0, len(corpus_df), batch_size), desc=\"Encoding contexts\"):\n",
    "    batch_texts = corpus_df[\"text\"].iloc[i:i+batch_size].tolist()\n",
    "    batch_texts = [str(t).strip() for t in batch_texts]\n",
    "\n",
    "    inputs = ctx_tokenizer(batch_texts, return_tensors=\"pt\", truncation=True, padding=True, max_length=512)\n",
    "    inputs = {k: v.to(device) for k, v in inputs.items()}\n",
    "\n",
    "    with torch.no_grad():\n",
    "        output = ctx_encoder(**inputs)\n",
    "        emb_batch = output.pooler_output.cpu().numpy()  # or output.last_hidden_state[:, 0]\n",
    "        ctx_embeddings.append(emb_batch)\n",
    "\n",
    "ctx_embeddings = np.vstack(ctx_embeddings)"
   ]
  },
  {
   "cell_type": "code",
   "execution_count": null,
   "metadata": {},
   "outputs": [
    {
     "name": "stderr",
     "output_type": "stream",
     "text": [
      "Encoding questions: 100%|██████████| 2738/2738 [00:54<00:00, 50.16it/s]\n"
     ]
    }
   ],
   "source": [
    "batch_size = 32  # 필요에 따라 조정 가능\n",
    "q_embeddings = []\n",
    "\n",
    "questions = qa_pairs[\"question\"].tolist()\n",
    "\n",
    "for i in tqdm(range(0, len(questions), batch_size), desc=\"Encoding questions\"):\n",
    "    batch_questions = questions[i:i+batch_size]\n",
    "    batch_questions = [str(q).strip() for q in batch_questions]\n",
    "\n",
    "    inputs = q_tokenizer(batch_questions, return_tensors=\"pt\", truncation=True, padding=True, max_length=512)\n",
    "    inputs = {k: v.to(device) for k, v in inputs.items()}\n",
    "\n",
    "    with torch.no_grad():\n",
    "        output = q_encoder(**inputs)\n",
    "        emb_batch = output.pooler_output.cpu().numpy()  # or output.last_hidden_state[:, 0]\n",
    "        q_embeddings.append(emb_batch)\n",
    "\n",
    "q_embeddings = np.vstack(q_embeddings)"
   ]
  },
  {
   "cell_type": "code",
   "execution_count": null,
   "metadata": {},
   "outputs": [
    {
     "name": "stdout",
     "output_type": "stream",
     "text": [
      "✅ Context embeddings saved to: /mnt/aix7101/jeong/aix_project/dpr_ctx_embeddings_multiqa.npy\n",
      "✅ Question embeddings saved to: /mnt/aix7101/jeong/aix_project/dpr_q_embeddings_multiqa.npy\n"
     ]
    }
   ],
   "source": [
    "# 4. 저장\n",
    "embedding_dir = \"/mnt/aix7101/jeong/aix_project\"\n",
    "if not os.path.exists(embedding_dir):\n",
    "    os.makedirs(embedding_dir)\n",
    "    print(f\"📁 Created directory: {embedding_dir}\")\n",
    "\n",
    "ctx_path = os.path.join(embedding_dir, \"nq_dpr_ctx_embeddings_multiqa.npy\")\n",
    "q_path = os.path.join(embedding_dir, \"nq_dpr_q_embeddings_multiqa.npy\")\n",
    "\n",
    "np.save(ctx_path, ctx_embeddings)\n",
    "np.save(q_path, q_embeddings)\n",
    "\n",
    "print(f\"✅ Context embeddings saved to: {ctx_path}\")\n",
    "print(f\"✅ Question embeddings saved to: {q_path}\")"
   ]
  },
  {
   "cell_type": "code",
   "execution_count": null,
   "metadata": {},
   "outputs": [
    {
     "name": "stderr",
     "output_type": "stream",
     "text": [
      "Encoding multi-sentence contexts: 100%|██████████| 18891/18891 [03:39<00:00, 85.90it/s] \n"
     ]
    }
   ],
   "source": [
    "from nltk.tokenize import sent_tokenize\n",
    "import numpy as np\n",
    "from tqdm import tqdm\n",
    "\n",
    "batch_size = 16  # GPU 상황에 따라 조정\n",
    "ctx_sentence_embeddings = []\n",
    "\n",
    "for doc in tqdm(corpus_df[\"text\"], desc=\"Encoding multi-sentence contexts\"):\n",
    "    # 1. 문서 내 문장 분리\n",
    "    sentences = sent_tokenize(doc)\n",
    "    doc_embeddings = []\n",
    "\n",
    "    # 2. 문장들을 배치로 처리\n",
    "    for i in range(0, len(sentences), batch_size):\n",
    "        batch_sents = sentences[i:i+batch_size]\n",
    "        inputs = ctx_tokenizer(\n",
    "            batch_sents,\n",
    "            return_tensors=\"pt\",\n",
    "            truncation=True,\n",
    "            padding=True,\n",
    "            max_length=128\n",
    "        )\n",
    "        inputs = {k: v.to(device) for k, v in inputs.items()}\n",
    "\n",
    "        with torch.no_grad():\n",
    "            output = ctx_encoder(**inputs)\n",
    "            emb_batch = output.pooler_output.cpu().numpy()  # or last_hidden_state[:, 0]\n",
    "            doc_embeddings.append(emb_batch)\n",
    "\n",
    "    # 3. 문서 하나에 대한 (문장 수, dim) 배열 생성\n",
    "    doc_embeddings = np.vstack(doc_embeddings)\n",
    "    ctx_sentence_embeddings.append(doc_embeddings)\n",
    "    \n",
    "# 4. 문서별 문장 수가 달라 3D 배열로 만들고 싶을 경우\n",
    "max_len = max(e.shape[0] for e in ctx_sentence_embeddings)\n",
    "dim = ctx_sentence_embeddings[0].shape[1]\n",
    "\n",
    "padded_embeddings = np.zeros((len(ctx_sentence_embeddings), max_len, dim))\n",
    "for i, emb in enumerate(ctx_sentence_embeddings):\n",
    "    padded_embeddings[i, :emb.shape[0], :] = emb"
   ]
  },
  {
   "cell_type": "code",
   "execution_count": null,
   "metadata": {},
   "outputs": [
    {
     "name": "stdout",
     "output_type": "stream",
     "text": [
      "✅ Context Sentence embeddings saved to: /mnt/aix7101/jeong/aix_project/dpr_m_ctx_embeddings_multiqa.npy\n"
     ]
    }
   ],
   "source": [
    "# 4. 저장\n",
    "embedding_dir = \"/mnt/aix7101/jeong/aix_project\"\n",
    "if not os.path.exists(embedding_dir):\n",
    "    os.makedirs(embedding_dir)\n",
    "    print(f\"📁 Created directory: {embedding_dir}\")\n",
    "\n",
    "sentence_ctx_path = os.path.join(embedding_dir, \"dpr_m_ctx_embeddings_multiqa.npy\")\n",
    "ctx_sentence_embeddings = np.array(ctx_sentence_embeddings, dtype=object)\n",
    "np.save(sentence_ctx_path, ctx_sentence_embeddings, allow_pickle=True)\n",
    "\n",
    "print(f\"✅ Context Sentence embeddings saved to: {sentence_ctx_path}\")"
   ]
  },
  {
   "cell_type": "markdown",
   "metadata": {},
   "source": [
    "## BM25"
   ]
  },
  {
   "cell_type": "code",
   "execution_count": null,
   "metadata": {},
   "outputs": [],
   "source": [
    "from rank_bm25 import BM25Okapi\n",
    "from tqdm import tqdm\n",
    "import pandas as pd\n",
    "import numpy as np\n",
    "from transformers import BartForConditionalGeneration, BartTokenizer\n",
    "from sklearn.metrics import accuracy_score, f1_score\n",
    "\n",
    "def evaluate_generator_with_bm25(\n",
    "    qa_pairs: pd.DataFrame,\n",
    "    corpus_df: pd.DataFrame,\n",
    "    k: int = 5,\n",
    "    model_name: str = \"facebook/bart-base\",\n",
    "    max_input_length: int = 1024,\n",
    "    max_output_length: int = 50,\n",
    ") -> None:\n",
    "    # 1. Tokenize corpus\n",
    "    tokenized_corpus = [doc.split() for doc in corpus_df[\"text\"]]\n",
    "    bm25 = BM25Okapi(tokenized_corpus)\n",
    "\n",
    "    # 2. Load generator\n",
    "    tokenizer = BartTokenizer.from_pretrained(model_name)\n",
    "    model = BartForConditionalGeneration.from_pretrained(model_name)\n",
    "\n",
    "    predictions = []\n",
    "    references = []\n",
    "\n",
    "    for _, row in tqdm(qa_pairs.iterrows(), total=len(qa_pairs), desc=\"Evaluating Generator\"):\n",
    "        question = row[\"question\"]\n",
    "        true_answer = row[\"answer\"]\n",
    "\n",
    "        # 3. BM25 top-k retrieval\n",
    "        tokenized_query = question.split()\n",
    "        scores = bm25.get_scores(tokenized_query)\n",
    "        topk_indices = np.argsort(scores)[::-1][:k]\n",
    "        topk_texts = corpus_df.iloc[topk_indices][\"text\"].tolist()\n",
    "\n",
    "        # 4. Concatenate retrieved passages as context\n",
    "        context = \" \".join(topk_texts)\n",
    "        input_text = f\"question: {question} context: {context}\"\n",
    "        inputs = tokenizer(\n",
    "            input_text,\n",
    "            return_tensors=\"pt\",\n",
    "            max_length=max_input_length,\n",
    "            truncation=True,\n",
    "        )\n",
    "\n",
    "        # 5. Generate answer\n",
    "        output_ids = model.generate(\n",
    "            inputs[\"input_ids\"],\n",
    "            max_length=max_output_length,\n",
    "            num_beams=4,\n",
    "            early_stopping=True\n",
    "        )\n",
    "        generated_answer = tokenizer.decode(output_ids[0], skip_special_tokens=True)\n",
    "\n",
    "        predictions.append(generated_answer.strip())\n",
    "        references.append(true_answer.strip())\n",
    "\n",
    "    # 6. Evaluation\n",
    "    acc = accuracy_score(references, predictions)\n",
    "    f1 = f1_score(references, predictions, average=\"macro\")  # or \"weighted\"\n",
    "\n",
    "    print(f\"✅ Accuracy: {acc:.4f}\")\n",
    "    print(f\"✅ F1 Score: {f1:.4f}\")\n",
    "    return acc, f1"
   ]
  },
  {
   "cell_type": "code",
   "execution_count": null,
   "metadata": {},
   "outputs": [
    {
     "name": "stderr",
     "output_type": "stream",
     "text": [
      "Evaluating BM25 Recall@K:   0%|          | 123/87599 [00:05<1:02:03, 23.49it/s]\n"
     ]
    },
    {
     "ename": "KeyboardInterrupt",
     "evalue": "",
     "output_type": "error",
     "traceback": [
      "\u001b[0;31m---------------------------------------------------------------------------\u001b[0m",
      "\u001b[0;31mKeyboardInterrupt\u001b[0m                         Traceback (most recent call last)",
      "Cell \u001b[0;32mIn[13], line 1\u001b[0m\n\u001b[0;32m----> 1\u001b[0m recall_bm25 \u001b[38;5;241m=\u001b[39m \u001b[43mcompute_bm25_recall\u001b[49m\u001b[43m(\u001b[49m\u001b[43mqa_pairs\u001b[49m\u001b[43m,\u001b[49m\u001b[43m \u001b[49m\u001b[43mcorpus_df\u001b[49m\u001b[43m,\u001b[49m\u001b[43m \u001b[49m\u001b[43mk\u001b[49m\u001b[38;5;241;43m=\u001b[39;49m\u001b[38;5;241;43m3\u001b[39;49m\u001b[43m)\u001b[49m\n",
      "Cell \u001b[0;32mIn[12], line 32\u001b[0m, in \u001b[0;36mcompute_bm25_recall\u001b[0;34m(qa_pairs, corpus_df, k)\u001b[0m\n\u001b[1;32m     29\u001b[0m gt_doc_id \u001b[38;5;241m=\u001b[39m row[\u001b[38;5;124m\"\u001b[39m\u001b[38;5;124mdoc_id\u001b[39m\u001b[38;5;124m\"\u001b[39m]\n\u001b[1;32m     31\u001b[0m tokenized_query \u001b[38;5;241m=\u001b[39m question\u001b[38;5;241m.\u001b[39msplit()\n\u001b[0;32m---> 32\u001b[0m scores \u001b[38;5;241m=\u001b[39m \u001b[43mbm25\u001b[49m\u001b[38;5;241;43m.\u001b[39;49m\u001b[43mget_scores\u001b[49m\u001b[43m(\u001b[49m\u001b[43mtokenized_query\u001b[49m\u001b[43m)\u001b[49m\n\u001b[1;32m     34\u001b[0m \u001b[38;5;66;03m# 상위 k개의 문서 인덱스 추출\u001b[39;00m\n\u001b[1;32m     35\u001b[0m topk_indices \u001b[38;5;241m=\u001b[39m np\u001b[38;5;241m.\u001b[39margsort(scores)[::\u001b[38;5;241m-\u001b[39m\u001b[38;5;241m1\u001b[39m][:k]\n",
      "File \u001b[0;32m~/anaconda3/envs/j_project/lib/python3.9/site-packages/rank_bm25.py:118\u001b[0m, in \u001b[0;36mBM25Okapi.get_scores\u001b[0;34m(self, query)\u001b[0m\n\u001b[1;32m    116\u001b[0m doc_len \u001b[38;5;241m=\u001b[39m np\u001b[38;5;241m.\u001b[39marray(\u001b[38;5;28mself\u001b[39m\u001b[38;5;241m.\u001b[39mdoc_len)\n\u001b[1;32m    117\u001b[0m \u001b[38;5;28;01mfor\u001b[39;00m q \u001b[38;5;129;01min\u001b[39;00m query:\n\u001b[0;32m--> 118\u001b[0m     q_freq \u001b[38;5;241m=\u001b[39m \u001b[43mnp\u001b[49m\u001b[38;5;241;43m.\u001b[39;49m\u001b[43marray\u001b[49m\u001b[43m(\u001b[49m\u001b[43m[\u001b[49m\u001b[43m(\u001b[49m\u001b[43mdoc\u001b[49m\u001b[38;5;241;43m.\u001b[39;49m\u001b[43mget\u001b[49m\u001b[43m(\u001b[49m\u001b[43mq\u001b[49m\u001b[43m)\u001b[49m\u001b[43m \u001b[49m\u001b[38;5;129;43;01mor\u001b[39;49;00m\u001b[43m \u001b[49m\u001b[38;5;241;43m0\u001b[39;49m\u001b[43m)\u001b[49m\u001b[43m \u001b[49m\u001b[38;5;28;43;01mfor\u001b[39;49;00m\u001b[43m \u001b[49m\u001b[43mdoc\u001b[49m\u001b[43m \u001b[49m\u001b[38;5;129;43;01min\u001b[39;49;00m\u001b[43m \u001b[49m\u001b[38;5;28;43mself\u001b[39;49m\u001b[38;5;241;43m.\u001b[39;49m\u001b[43mdoc_freqs\u001b[49m\u001b[43m]\u001b[49m\u001b[43m)\u001b[49m\n\u001b[1;32m    119\u001b[0m     score \u001b[38;5;241m+\u001b[39m\u001b[38;5;241m=\u001b[39m (\u001b[38;5;28mself\u001b[39m\u001b[38;5;241m.\u001b[39midf\u001b[38;5;241m.\u001b[39mget(q) \u001b[38;5;129;01mor\u001b[39;00m \u001b[38;5;241m0\u001b[39m) \u001b[38;5;241m*\u001b[39m (q_freq \u001b[38;5;241m*\u001b[39m (\u001b[38;5;28mself\u001b[39m\u001b[38;5;241m.\u001b[39mk1 \u001b[38;5;241m+\u001b[39m \u001b[38;5;241m1\u001b[39m) \u001b[38;5;241m/\u001b[39m\n\u001b[1;32m    120\u001b[0m                                        (q_freq \u001b[38;5;241m+\u001b[39m \u001b[38;5;28mself\u001b[39m\u001b[38;5;241m.\u001b[39mk1 \u001b[38;5;241m*\u001b[39m (\u001b[38;5;241m1\u001b[39m \u001b[38;5;241m-\u001b[39m \u001b[38;5;28mself\u001b[39m\u001b[38;5;241m.\u001b[39mb \u001b[38;5;241m+\u001b[39m \u001b[38;5;28mself\u001b[39m\u001b[38;5;241m.\u001b[39mb \u001b[38;5;241m*\u001b[39m doc_len \u001b[38;5;241m/\u001b[39m \u001b[38;5;28mself\u001b[39m\u001b[38;5;241m.\u001b[39mavgdl)))\n\u001b[1;32m    121\u001b[0m \u001b[38;5;28;01mreturn\u001b[39;00m score\n",
      "\u001b[0;31mKeyboardInterrupt\u001b[0m: "
     ]
    }
   ],
   "source": [
    "acc, f1 = evaluate_generator_with_bm25(qa_pairs, corpus_df, k=5)"
   ]
  },
  {
   "cell_type": "markdown",
   "metadata": {},
   "source": [
    "## DPR"
   ]
  },
  {
   "cell_type": "code",
   "execution_count": null,
   "metadata": {},
   "outputs": [],
   "source": [
    "from transformers import pipeline\n",
    "from tqdm import tqdm\n",
    "from sklearn.metrics import f1_score, accuracy_score\n",
    "import numpy as np\n",
    "\n",
    "def evaluate_generator_with_dpr(qa_pairs, corpus_df, ctx_emb_path, q_emb_path, k=5, model_name=\"facebook/bart-base\"):\n",
    "    \"\"\"\n",
    "    저장된 DPR 임베딩을 기반으로 top-k 문서를 찾아 Generator로 답변을 생성하고, 정답과 비교하여 Accuracy와 F1을 평가합니다.\n",
    "\n",
    "    Args:\n",
    "        qa_pairs (pd.DataFrame): 질문-정답 쌍 (columns: ['question', 'answer', 'doc_id'])\n",
    "        corpus_df (pd.DataFrame): 문서 집합 (columns: ['doc_id', 'text'])\n",
    "        ctx_emb_path (str): 문서 임베딩이 저장된 .npy 경로\n",
    "        q_emb_path (str): 질문 임베딩이 저장된 .npy 경로\n",
    "        k (int): top-k 문서 수\n",
    "        model_name (str): Hugging Face Generator 모델 이름\n",
    "\n",
    "    Returns:\n",
    "        (float, float): Accuracy, F1 Score\n",
    "    \"\"\"\n",
    "    # 1. 임베딩 로드\n",
    "    ctx_embeddings = np.load(ctx_emb_path)\n",
    "    q_embeddings = np.load(q_emb_path)\n",
    "\n",
    "    assert len(q_embeddings) == len(qa_pairs), \"❗ 질문 임베딩 수와 QA 쌍 수가 일치하지 않습니다.\"\n",
    "\n",
    "    # 2. Generator 로드\n",
    "    generator = pipeline(\"text2text-generation\", model=model_name)\n",
    "\n",
    "    predictions = []\n",
    "    references = []\n",
    "\n",
    "    # 3. 질문마다 DPR 기반 top-k 문서로 답변 생성\n",
    "    for idx, row in tqdm(qa_pairs.iterrows(), total=len(qa_pairs), desc=\"Evaluating Generator via DPR\"):\n",
    "        question = row[\"question\"]\n",
    "        gold_answer = row[\"answer\"]\n",
    "        q_emb = q_embeddings[idx]\n",
    "\n",
    "        # dot product 기반 유사도 계산\n",
    "        scores = np.dot(ctx_embeddings, q_emb)\n",
    "        topk_indices = np.argsort(scores)[::-1][:k]\n",
    "        topk_texts = corpus_df.iloc[topk_indices][\"text\"].tolist()\n",
    "\n",
    "        # context 구성\n",
    "        context = \" \".join(topk_texts)\n",
    "        input_text = f\"question: {question} context: {context}\"\n",
    "\n",
    "        # 생성\n",
    "        output = generator(input_text, max_length=64, do_sample=False)[0][\"generated_text\"]\n",
    "        predictions.append(output.strip())\n",
    "        references.append(gold_answer.strip())\n",
    "\n",
    "    # 평가\n",
    "    accuracy = np.mean([pred == ref for pred, ref in zip(predictions, references)])\n",
    "    f1 = np.mean([\n",
    "        f1_score(ref.split(), pred.split(), average=\"micro\") if len(ref.split()) > 0 and len(pred.split()) > 0 else 0\n",
    "        for pred, ref in zip(predictions, references)\n",
    "    ])\n",
    "\n",
    "    print(f\"📌 Accuracy: {accuracy:.4f} | F1 Score: {f1:.4f}\")\n",
    "    return accuracy, f1"
   ]
  },
  {
   "cell_type": "code",
   "execution_count": null,
   "metadata": {},
   "outputs": [
    {
     "name": "stderr",
     "output_type": "stream",
     "text": [
      "Evaluating Recall@K: 100%|██████████| 87599/87599 [01:03<00:00, 1387.19it/s]"
     ]
    },
    {
     "name": "stdout",
     "output_type": "stream",
     "text": [
      "📌 Recall@3: 0.5645\n"
     ]
    },
    {
     "name": "stderr",
     "output_type": "stream",
     "text": [
      "\n"
     ]
    }
   ],
   "source": [
    "acc, f1 = evaluate_generator_with_dpr(\n",
    "    qa_pairs=qa_pairs,\n",
    "    corpus_df=corpus_df,\n",
    "    ctx_emb_path=\"/mnt/aix7101/jeong/aix_project/dpr_ctx_embeddings_multiqa.npy\",\n",
    "    q_emb_path=\"/mnt/aix7101/jeong/aix_project/dpr_q_embeddings_multiqa.npy\",\n",
    "    k=5,\n",
    "    model_name=\"facebook/bart-base\"\n",
    ")\n"
   ]
  },
  {
   "cell_type": "markdown",
   "metadata": {},
   "source": [
    "## sentenceDPR"
   ]
  },
  {
   "cell_type": "code",
   "execution_count": 25,
   "metadata": {},
   "outputs": [],
   "source": [
    "def compute_dprm_recall(\n",
    "    qa_pairs: pd.DataFrame,\n",
    "    corpus_df: pd.DataFrame,\n",
    "    ctx_emb_path: str,\n",
    "    q_emb_path: str,\n",
    "    k: int = 5,\n",
    "    aggregation: str = \"mean\",\n",
    ") -> float:\n",
    "    \"\"\"\n",
    "    문장 단위의 문서 임베딩을 사용하여 DPR-m 방식의 Recall@k 계산.\n",
    "\n",
    "    Args:\n",
    "        qa_pairs (pd.DataFrame): 질문-정답 쌍 (columns: ['question', 'answer', 'doc_id'])\n",
    "        corpus_df (pd.DataFrame): 문서 집합 (columns: ['doc_id', 'text'])\n",
    "        ctx_emb_path (str): 문장 단위 문서 임베딩 저장 경로 (.npy, shape: [num_docs, num_sents, dim])\n",
    "        q_emb_path (str): 질문 임베딩 저장 경로 (.npy, shape: [num_queries, dim])\n",
    "        k (int): Recall@k\n",
    "        aggregation (str): 'max' 또는 'mean' 방식으로 문서 유사도 집계\n",
    "        \n",
    "    Returns:\n",
    "        float: Recall@k\n",
    "    \"\"\"\n",
    "    \n",
    "    # 1. 임베딩 로드\n",
    "    ctx_embeddings = np.load(ctx_emb_path, allow_pickle=True)  # object 배열\n",
    "    q_embeddings = np.load(q_emb_path)\n",
    "\n",
    "    assert len(q_embeddings) == len(qa_pairs), \"❗ 질문 임베딩 수와 QA 쌍 수가 일치하지 않습니다.\"\n",
    "\n",
    "    hit_count = 0\n",
    "\n",
    "    for idx, row in tqdm(qa_pairs.iterrows(), total=len(qa_pairs), desc=\"Evaluating DPR-m Recall@K\"):\n",
    "        gt_doc_id = row[\"doc_id\"]\n",
    "        q_emb = q_embeddings[idx]  # (dim,)\n",
    "\n",
    "        # 각 문서에 대해 문장 임베딩과 q_emb의 유사도 계산\n",
    "        scores = []\n",
    "        for doc_sents in ctx_embeddings:\n",
    "            sent_scores = np.dot(doc_sents, q_emb)  # (num_sents,)\n",
    "            if aggregation == \"max\": # 유사도가 제일 높은 문장이 있는 것으로 할지\n",
    "                score = np.max(sent_scores)\n",
    "            elif aggregation == \"mean\": # 전체적인 문장의 평균으로 계산할지\n",
    "                score = np.mean(sent_scores)\n",
    "            else:\n",
    "                raise ValueError(\"aggregation은 'max' 또는 'mean'이어야 합니다.\")\n",
    "            scores.append(score)\n",
    "\n",
    "        scores = np.array(scores)\n",
    "        topk_indices = np.argsort(scores)[::-1][:k]\n",
    "        topk_doc_ids = corpus_df.iloc[topk_indices][\"doc_id\"].tolist()\n",
    "\n",
    "        if gt_doc_id in topk_doc_ids:\n",
    "            hit_count += 1\n",
    "\n",
    "    recall_at_k = hit_count / len(qa_pairs)\n",
    "    print(f\"📌 DPR-m Recall@{k} ({aggregation} aggregation): {recall_at_k:.4f}\")\n",
    "    return recall_at_k"
   ]
  },
  {
   "cell_type": "code",
   "execution_count": 36,
   "metadata": {},
   "outputs": [
    {
     "name": "stderr",
     "output_type": "stream",
     "text": [
      "Evaluating DPR-m Recall@K: 100%|██████████| 87599/87599 [1:55:38<00:00, 12.63it/s]"
     ]
    },
    {
     "name": "stdout",
     "output_type": "stream",
     "text": [
      "📌 DPR-m Recall@3 (max aggregation): 0.6796\n"
     ]
    },
    {
     "name": "stderr",
     "output_type": "stream",
     "text": [
      "\n"
     ]
    },
    {
     "data": {
      "text/plain": [
       "0.6795739677393577"
      ]
     },
     "execution_count": 36,
     "metadata": {},
     "output_type": "execute_result"
    }
   ],
   "source": [
    "compute_dprm_recall(\n",
    "    qa_pairs=qa_pairs,\n",
    "    corpus_df=corpus_df,\n",
    "    ctx_emb_path=\"/mnt/aix7101/jeong/aix_project/dpr_m_ctx_embeddings_multiqa.npy\",\n",
    "    q_emb_path=\"/mnt/aix7101/jeong/aix_project/dpr_q_embeddings_multiqa.npy\",\n",
    "    k=3,\n",
    "    aggregation=\"max\"\n",
    ")"
   ]
  },
  {
   "cell_type": "markdown",
   "metadata": {},
   "source": [
    "## hybrid (bm25 + DPR)"
   ]
  },
  {
   "cell_type": "code",
   "execution_count": null,
   "metadata": {},
   "outputs": [],
   "source": [
    "from transformers import pipeline\n",
    "from tqdm import tqdm\n",
    "from sklearn.metrics import f1_score, accuracy_score\n",
    "from rank_bm25 import BM25Okapi\n",
    "import numpy as np\n",
    "import pandas as pd\n",
    "\n",
    "def evaluate_generator_with_hybrid(\n",
    "    qa_pairs: pd.DataFrame,\n",
    "    corpus_df: pd.DataFrame,\n",
    "    ctx_emb_path: str,\n",
    "    q_emb_path: str,\n",
    "    bm25_top_n: int = 100,\n",
    "    k: int = 5,\n",
    "    model_name: str = \"facebook/bart-base\"\n",
    ") -> tuple:\n",
    "    \"\"\"\n",
    "    BM25 + DPR 하이브리드 top-k 문서를 기반으로 generator가 답변 생성 → Accuracy/F1 계산\n",
    "\n",
    "    Args:\n",
    "        qa_pairs (pd.DataFrame): 질문-정답 쌍 (columns: ['question', 'answer', 'doc_id'])\n",
    "        corpus_df (pd.DataFrame): 문서 집합 (columns: ['doc_id', 'text'])\n",
    "        ctx_emb_path (str): DPR 문서 임베딩 경로 (.npy)\n",
    "        q_emb_path (str): DPR 질문 임베딩 경로 (.npy)\n",
    "        bm25_top_n (int): BM25로 먼저 추리는 후보 문서 수\n",
    "        k (int): 최종 DPR로 고르는 문서 수\n",
    "        model_name (str): Hugging Face generator 모델명\n",
    "\n",
    "    Returns:\n",
    "        tuple: (accuracy, f1 score)\n",
    "    \"\"\"\n",
    "    ctx_embeddings = np.load(ctx_emb_path)\n",
    "    q_embeddings = np.load(q_emb_path)\n",
    "    assert len(q_embeddings) == len(qa_pairs), \"❗ 질문 임베딩 수와 QA 쌍 수가 다릅니다.\"\n",
    "\n",
    "    tokenized_corpus = [doc.split() for doc in corpus_df[\"text\"]]\n",
    "    bm25 = BM25Okapi(tokenized_corpus)\n",
    "    generator = pipeline(\"text2text-generation\", model=model_name)\n",
    "\n",
    "    predictions = []\n",
    "    references = []\n",
    "\n",
    "    for idx, row in tqdm(qa_pairs.iterrows(), total=len(qa_pairs), desc=\"Evaluating Hybrid Generator\"):\n",
    "        question = row[\"question\"]\n",
    "        gold_answer = row[\"answer\"]\n",
    "        q_emb = q_embeddings[idx]\n",
    "\n",
    "        # Step 1: BM25 top-N 후보\n",
    "        tokenized_query = question.split()\n",
    "        bm25_scores = bm25.get_scores(tokenized_query)\n",
    "        bm25_top_indices = np.argsort(bm25_scores)[::-1][:bm25_top_n]\n",
    "\n",
    "        # Step 2: DPR 점수 계산\n",
    "        candidate_ctx_embs = ctx_embeddings[bm25_top_indices]\n",
    "        dpr_scores = np.dot(candidate_ctx_embs, q_emb)\n",
    "\n",
    "        # Step 3: 최종 top-k 인덱스\n",
    "        topk_local_indices = np.argsort(dpr_scores)[::-1][:k]\n",
    "        topk_doc_indices = [bm25_top_indices[i] for i in topk_local_indices]\n",
    "        topk_texts = corpus_df.iloc[topk_doc_indices][\"text\"].tolist()\n",
    "\n",
    "        # Step 4: Generator로 답 생성\n",
    "        context = \" \".join(topk_texts)\n",
    "        input_text = f\"question: {question} context: {context}\"\n",
    "        output = generator(input_text, max_length=64, do_sample=False)[0][\"generated_text\"]\n",
    "\n",
    "        predictions.append(output.strip())\n",
    "        references.append(gold_answer.strip())\n",
    "\n",
    "    # Step 5: 평가\n",
    "    accuracy = np.mean([pred == ref for pred, ref in zip(predictions, references)])\n",
    "    f1 = np.mean([\n",
    "        f1_score(ref.split(), pred.split(), average=\"micro\") if ref and pred else 0\n",
    "        for pred, ref in zip(predictions, references)\n",
    "    ])\n",
    "\n",
    "    print(f\"📌 Hybrid Generator Accuracy: {accuracy:.4f} | F1: {f1:.4f}\")\n",
    "    return accuracy, f1"
   ]
  },
  {
   "cell_type": "code",
   "execution_count": null,
   "metadata": {},
   "outputs": [
    {
     "name": "stderr",
     "output_type": "stream",
     "text": [
      "Evaluating Hybrid Recall@K: 100%|██████████| 87599/87599 [50:34<00:00, 28.86it/s]  "
     ]
    },
    {
     "name": "stdout",
     "output_type": "stream",
     "text": [
      "📌 Hybrid Recall@5 (BM25 top-300 + DPR top-5): 0.6972\n"
     ]
    },
    {
     "name": "stderr",
     "output_type": "stream",
     "text": [
      "\n"
     ]
    }
   ],
   "source": [
    "acc, f1 = evaluate_generator_with_hybrid(\n",
    "    qa_pairs=qa_pairs,\n",
    "    corpus_df=corpus_df,\n",
    "    ctx_emb_path=\"/mnt/aix7101/jeong/aix_project/dpr_ctx_embeddings_multiqa.npy\",\n",
    "    q_emb_path=\"/mnt/aix7101/jeong/aix_project/dpr_q_embeddings_multiqa.npy\",\n",
    "    bm25_top_n=300,\n",
    "    k=5,\n",
    "    model_name=\"facebook/bart-base\"\n",
    ")"
   ]
  },
  {
   "cell_type": "code",
   "execution_count": null,
   "metadata": {},
   "outputs": [],
   "source": [
    "with open(\"hybrid_recall_result.txt\", \"w\", encoding=\"utf-8\") as f:\n",
    "    f.write(f\"{recall_hybrid:.4f}\")"
   ]
  },
  {
   "cell_type": "markdown",
   "metadata": {},
   "source": [
    "## Custom Retrieval 구성 요소\n",
    "1. 문장에서 keyword 추출 (phrase 단위로 추출할 수 있는 방법이 있는지)\n",
    "2. 추출한 keyword와의 score도 함께 계산\n",
    "4. query만으로 추출한 recall@k\n",
    "5. keyword만으로 추출한 recall@k\n",
    "6. 둘을 hybrid하는 것도 ㄱㅊ"
   ]
  },
  {
   "cell_type": "markdown",
   "metadata": {},
   "source": [
    "### keyword extract function"
   ]
  },
  {
   "cell_type": "code",
   "execution_count": null,
   "metadata": {},
   "outputs": [],
   "source": [
    "import spacy\n",
    "import pandas as pd\n",
    "\n",
    "# 1. spaCy 영어 모델 로드\n",
    "nlp = spacy.load(\"en_core_web_sm\")\n",
    "\n",
    "# 2. 의문사 리스트 정의\n",
    "WH_WORDS = {\"what\", \"who\", \"whom\", \"where\", \"when\", \"why\", \"how\"}\n",
    "\n",
    "# 3. keyphrase 추출 함수 정의\n",
    "def extract_keyphrases_spacy(question: str):\n",
    "    doc = nlp(question.lower())\n",
    "    keyphrases = set()\n",
    "\n",
    "    wh_word = None\n",
    "    for token in doc:\n",
    "        if token.text in WH_WORDS:\n",
    "            wh_word = token.text\n",
    "            break\n",
    "\n",
    "    for chunk in doc.noun_chunks:\n",
    "        if any(not token.is_stop and token.pos_ in {\"NOUN\", \"PROPN\"} for token in chunk):\n",
    "            keyphrases.add(chunk.text.strip())\n",
    "\n",
    "    # 의문사에 따른 힌트 키워드 추가\n",
    "    if wh_word:\n",
    "        hint_map = {\n",
    "            \"who\": \"person\",\n",
    "            \"where\": \"location\",\n",
    "            \"when\": \"time\",\n",
    "            \"why\": \"reason\",\n",
    "            \"how\": \"method\",\n",
    "        }\n",
    "        hint = hint_map.get(wh_word)\n",
    "        if hint:\n",
    "            keyphrases.add(hint)\n",
    "\n",
    "    return list(keyphrases)"
   ]
  },
  {
   "cell_type": "markdown",
   "metadata": {},
   "source": [
    "### use keybert"
   ]
  },
  {
   "cell_type": "code",
   "execution_count": null,
   "metadata": {},
   "outputs": [],
   "source": [
    "from keybert import KeyBERT\n",
    "from typing import List\n",
    "import re\n",
    "\n",
    "# KeyBERT 모델 초기화 (기본적으로 'all-MiniLM-L6-v2' 사용)\n",
    "kw_model = KeyBERT(model='all-MiniLM-L6-v2')\n",
    "\n",
    "def extract_keyphrases_keybert(question: str, top_n: int = 5, diversity: bool = False) -> List[str]:\n",
    "    \"\"\"\n",
    "    KeyBERT 기반 keyphrase 추출 함수 (의문사 힌트 없음)\n",
    "\n",
    "    Args:\n",
    "        question (str): 입력 질문\n",
    "        top_n (int): 추출할 키프레이즈 개수\n",
    "        diversity (bool): MMR(Minimal Marginal Relevance) 사용 여부\n",
    "\n",
    "    Returns:\n",
    "        List[str]: 추출된 키프레이즈 리스트\n",
    "    \"\"\"\n",
    "    question_clean = re.sub(r\"[^\\w\\s]\", \"\", question.lower())  # 간단한 전처리\n",
    "\n",
    "    if diversity:\n",
    "        keyphrases = kw_model.extract_keywords(\n",
    "            question_clean,\n",
    "            keyphrase_ngram_range=(1, 3),\n",
    "            stop_words='english',\n",
    "            use_mmr=True,\n",
    "            diversity=0.7,\n",
    "            top_n=top_n\n",
    "        )\n",
    "    else:\n",
    "        keyphrases = kw_model.extract_keywords(\n",
    "            question_clean,\n",
    "            keyphrase_ngram_range=(1, 3),\n",
    "            stop_words='english',\n",
    "            top_n=top_n\n",
    "        )\n",
    "\n",
    "    return [phrase for phrase, _ in keyphrases]"
   ]
  },
  {
   "cell_type": "markdown",
   "metadata": {},
   "source": [
    "1. keyphrase-based pre-filtering\n",
    "- keyphrase를 추출\n",
    "- 각 keyphrase를 embedding하고 corpus와의 유사도 계산을 통해 후보 100개씩 추출\n",
    "2. query-to-context matching\n",
    "- 전체 corpus가 아닌 후보 corpus와만 비교해서 최종 recall@k를 계산"
   ]
  },
  {
   "cell_type": "code",
   "execution_count": null,
   "metadata": {},
   "outputs": [],
   "source": [
    "from transformers import pipeline\n",
    "from sklearn.metrics import accuracy_score, f1_score\n",
    "from sklearn.preprocessing import normalize\n",
    "from tqdm import tqdm\n",
    "import numpy as np\n",
    "import torch\n",
    "\n",
    "def evaluate_generator_with_custom_keyphrase_retrieval(\n",
    "    qa_pairs,\n",
    "    corpus_df,\n",
    "    ctx_emb_path,\n",
    "    extract_keyphrases_fn,\n",
    "    top_n_per_keyphrase=50,\n",
    "    final_top_k=5,\n",
    "    model_name=\"facebook/bart-base\",\n",
    "    device=\"cuda\" if torch.cuda.is_available() else \"cpu\"\n",
    "):\n",
    "    \"\"\"\n",
    "    키프레이즈 기반 Hybrid Retrieval 후 Generator로 답변 생성하여 Accuracy/F1 평가\n",
    "\n",
    "    Returns:\n",
    "        tuple: (accuracy, f1_score)\n",
    "    \"\"\"\n",
    "    ctx_embeddings = np.load(ctx_emb_path, allow_pickle=True)\n",
    "    ctx_embeddings = normalize(ctx_embeddings)\n",
    "\n",
    "    generator = pipeline(\"text2text-generation\", model=model_name, device=0 if device == \"cuda\" else -1)\n",
    "\n",
    "    predictions = []\n",
    "    references = []\n",
    "\n",
    "    for idx, row in tqdm(qa_pairs.iterrows(), total=len(qa_pairs), desc=\"Evaluating Generator (Custom Keyphrase)\"):\n",
    "        question = row[\"question\"]\n",
    "        gold_answer = row[\"answer\"]\n",
    "        gt_doc_id = row[\"doc_id\"]\n",
    "\n",
    "        # 1. 키프레이즈 추출\n",
    "        keyphrases = extract_keyphrases_fn(question)\n",
    "        if not keyphrases:\n",
    "            continue\n",
    "\n",
    "        # 2. 키프레이즈 임베딩\n",
    "        phrase_embs = []\n",
    "        for phrase in keyphrases:\n",
    "            inputs = ctx_tokenizer(phrase, return_tensors=\"pt\", truncation=True, padding=\"max_length\", max_length=512)\n",
    "            inputs = {k: v.to(device) for k, v in inputs.items()}\n",
    "            with torch.no_grad():\n",
    "                emb = ctx_encoder(**inputs).pooler_output[0].cpu().numpy()\n",
    "            phrase_embs.append(emb)\n",
    "        phrase_embs = normalize(np.stack(phrase_embs))\n",
    "\n",
    "        # 3. 키워드 별 후보 문서 수집\n",
    "        candidate_indices = set()\n",
    "        for emb in phrase_embs:\n",
    "            scores = np.dot(ctx_embeddings, emb)\n",
    "            top_indices = np.argsort(scores)[::-1][:top_n_per_keyphrase]\n",
    "            candidate_indices.update(top_indices)\n",
    "\n",
    "        if not candidate_indices:\n",
    "            continue\n",
    "\n",
    "        # 4. 쿼리 임베딩\n",
    "        q_inputs = q_tokenizer(question, return_tensors=\"pt\", truncation=True, padding=\"max_length\", max_length=512)\n",
    "        q_inputs = {k: v.to(device) for k, v in q_inputs.items()}\n",
    "        with torch.no_grad():\n",
    "            query_emb = q_encoder(**q_inputs).pooler_output[0].cpu().numpy()\n",
    "        query_emb = normalize(query_emb.reshape(1, -1))[0]\n",
    "\n",
    "        # 5. 재랭킹\n",
    "        candidate_indices = list(candidate_indices)\n",
    "        candidate_embs = ctx_embeddings[candidate_indices]\n",
    "        rerank_scores = np.dot(candidate_embs, query_emb)\n",
    "        top_k_indices = np.argsort(rerank_scores)[::-1][:final_top_k]\n",
    "        top_k_doc_ids = [corpus_df.iloc[candidate_indices[i]][\"doc_id\"] for i in top_k_indices]\n",
    "        top_k_texts = [corpus_df.iloc[candidate_indices[i]][\"text\"] for i in top_k_indices]\n",
    "\n",
    "        # 6. 답변 생성\n",
    "        context = \" \".join(top_k_texts)\n",
    "        input_text = f\"question: {question} context: {context}\"\n",
    "        output = generator(input_text, max_length=64, do_sample=False)[0][\"generated_text\"]\n",
    "\n",
    "        predictions.append(output.strip())\n",
    "        references.append(gold_answer.strip())\n",
    "\n",
    "    # 7. 평가\n",
    "    accuracy = np.mean([pred == ref for pred, ref in zip(predictions, references)])\n",
    "    f1 = np.mean([\n",
    "        f1_score(ref.split(), pred.split(), average=\"micro\") if ref and pred else 0\n",
    "        for pred, ref in zip(predictions, references)\n",
    "    ])\n",
    "\n",
    "    print(f\"📌 Custom Keyphrase Generator Accuracy: {accuracy:.4f} | F1: {f1:.4f}\")\n",
    "    return accuracy, f1"
   ]
  },
  {
   "cell_type": "code",
   "execution_count": null,
   "metadata": {},
   "outputs": [
    {
     "name": "stderr",
     "output_type": "stream",
     "text": [
      "Hybrid DPR Retrieval Recall@K:   1%|▏         | 1102/87599 [00:52<1:55:53, 12.44it/s]"
     ]
    }
   ],
   "source": [
    "acc, f1 = evaluate_generator_with_custom_keyphrase_retrieval(\n",
    "    qa_pairs=qa_pairs,\n",
    "    corpus_df=corpus_df,\n",
    "    ctx_emb_path=\"/mnt/aix7101/jeong/aix_project/dpr_ctx_embeddings2.npy\",\n",
    "    extract_keyphrases_fn=extract_keyphrases_spacy,  # 앞서 정의한 spaCy 기반 함수\n",
    "    top_n_per_keyphrase=100,\n",
    "    final_top_k=5\n",
    ")"
   ]
  },
  {
   "cell_type": "code",
   "execution_count": null,
   "metadata": {},
   "outputs": [
    {
     "name": "stderr",
     "output_type": "stream",
     "text": [
      "Custom Retrieval Recall@K:  25%|██▌       | 22272/87599 [25:53<1:03:49, 17.06it/s]"
     ]
    }
   ],
   "source": [
    "acc, f1 = evaluate_generator_with_custom_keyphrase_retrieval(\n",
    "    qa_pairs=qa_pairs,\n",
    "    corpus_df=corpus_df,\n",
    "    ctx_emb_path=\"/mnt/aix7101/jeong/aix_project/dpr_ctx_embeddings2.npy\",\n",
    "    extract_keyphrases_fn=extract_keyphrases_keybert,  # 앞서 정의한 spaCy 기반 함수\n",
    "    top_n_per_keyphrase=100,\n",
    "    final_top_k=5\n",
    ")"
   ]
  },
  {
   "cell_type": "code",
   "execution_count": null,
   "metadata": {},
   "outputs": [],
   "source": [
    "# use keybert"
   ]
  },
  {
   "cell_type": "code",
   "execution_count": null,
   "metadata": {},
   "outputs": [],
   "source": [
    "#-- retrieval"
   ]
  },
  {
   "cell_type": "code",
   "execution_count": null,
   "metadata": {},
   "outputs": [],
   "source": [
    "#-- custom checking code\n"
   ]
  }
 ],
 "metadata": {
  "kernelspec": {
   "display_name": "j_project",
   "language": "python",
   "name": "python3"
  },
  "language_info": {
   "codemirror_mode": {
    "name": "ipython",
    "version": 3
   },
   "file_extension": ".py",
   "mimetype": "text/x-python",
   "name": "python",
   "nbconvert_exporter": "python",
   "pygments_lexer": "ipython3",
   "version": "3.9.21"
  }
 },
 "nbformat": 4,
 "nbformat_minor": 2
}
